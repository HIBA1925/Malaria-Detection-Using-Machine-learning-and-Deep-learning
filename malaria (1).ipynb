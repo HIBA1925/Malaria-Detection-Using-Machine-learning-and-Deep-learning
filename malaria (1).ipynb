{
 "cells": [
  {
   "cell_type": "code",
   "execution_count": 1,
   "metadata": {},
   "outputs": [],
   "source": [
    "import cv2,os\n",
    "import numpy as np\n",
    "import csv\n",
    "import glob\n",
    "import matplotlib.pyplot as plot\n"
   ]
  },
  {
   "cell_type": "code",
   "execution_count": 8,
   "metadata": {},
   "outputs": [
    {
     "data": {
      "text/plain": [
       "-1"
      ]
     },
     "execution_count": 8,
     "metadata": {},
     "output_type": "execute_result"
    }
   ],
   "source": [
    "label = \"Parasitized\"\n",
    "dirList = glob.glob(\"C:/Users/HIBA/OneDrive/Desktop/university/cell_images\"+label+\"/*.png\")\n",
    "file = open(\"C:/Users/raman/OneDrive/Desktop/d1.csv\",\"a\")\n",
    "for img_path in dirList:\n",
    "\n",
    "\tim = cv2.imread(img_path)\n",
    "\t\n",
    "\tim = cv2.GaussianBlur(im,(5,5),2)\n",
    "\n",
    "\n",
    "\n",
    "\tim_gray = cv2.cvtColor(im,cv2.COLOR_BGR2GRAY)\n",
    "\n",
    "\tret,thresh = cv2.threshold(im_gray,127,255,0)\n",
    "\tcontours,_ = cv2.findContours(thresh,1,2)\n",
    "\t\n",
    "\tfor contour in contours:\n",
    "\t\tcv2.drawContours(im_gray, contours, -1, (0,255,0), 3)\n",
    "\t\n",
    "\n",
    "\tcv2.imshow(\"window\",im_gray)\n",
    "\n",
    "\tbreak\n",
    "\n",
    "\n",
    "\tfile.write(label)\n",
    "\tfile.write(\",\")\n",
    "\n",
    "\tfor i in range(5):\n",
    "\t\ttry:\n",
    "\t\t\tarea = cv2.contourArea(contours[i])\n",
    "\t\t\tfile.write(str(area))\n",
    "\t\texcept:\n",
    "\t\t\tfile.write(\"0\")\n",
    "\n",
    "\t\tfile.write(\",\")\n",
    "\n",
    "\t\n",
    "\tfile.write(\"\\n\")\n",
    "cv2.waitKey(19000)\n",
    "\n"
   ]
  },
  {
   "cell_type": "code",
   "execution_count": 2,
   "metadata": {},
   "outputs": [],
   "source": [
    "import pandas as pd\n",
    "from sklearn.model_selection import train_test_split\n",
    "from sklearn.ensemble import RandomForestClassifier, AdaBoostClassifier\n",
    "from sklearn import metrics\n",
    "import joblib\n",
    "\n",
    "##Step1: Load Dataset\n",
    "\n"
   ]
  },
  {
   "cell_type": "code",
   "execution_count": 3,
   "metadata": {},
   "outputs": [
    {
     "name": "stdout",
     "output_type": "stream",
     "text": [
      "              precision    recall  f1-score   support\n",
      "\n",
      " Parasitized       0.90      0.90      0.90      2772\n",
      "  Uninfected       0.90      0.89      0.90      2740\n",
      "\n",
      "    accuracy                           0.90      5512\n",
      "   macro avg       0.90      0.90      0.90      5512\n",
      "weighted avg       0.90      0.90      0.90      5512\n",
      "\n",
      "0.8985849056603774\n"
     ]
    }
   ],
   "source": [
    "dataframe = pd.read_csv(\"C:/Users/HIBA/OneDrive/Desktop/d1.csv\")\n",
    "#print(dataframe.head())\n",
    "\n",
    "#Step2: Split into training and test data\n",
    "x = dataframe.drop([\"Label\"],axis=1)\n",
    "y = dataframe[\"Label\"]\n",
    "x_train, x_test, y_train, y_test = train_test_split(x,y,test_size=0.2,random_state=42)\n",
    "\n",
    "##Step4: Build a model\n",
    "\n",
    "model = RandomForestClassifier(n_estimators=100,max_depth=5)\n",
    "model.fit(x_train,y_train)\n",
    "joblib.dump(model,\"rf_malaria_100_5\")\n",
    "\n",
    "\n",
    "##Step5: Make predictions and get classification report\n",
    "\n",
    "predictions = model.predict(x_test)\n",
    "\n",
    "print(metrics.classification_report(predictions,y_test))\n",
    "print(model.score(x_test,y_test))\n"
   ]
  },
  {
   "cell_type": "code",
   "execution_count": 4,
   "metadata": {},
   "outputs": [],
   "source": [
    "from sklearn.model_selection import train_test_split\n",
    "\n",
    "X_train, X_test, y_train, y_test = train_test_split(x, y, test_size=0.15, random_state=31)"
   ]
  },
  {
   "cell_type": "code",
   "execution_count": 5,
   "metadata": {},
   "outputs": [],
   "source": [
    "from sklearn.preprocessing import StandardScaler\n",
    "\n",
    "\n",
    "# Create an instance of the scaler and apply it to the data\n",
    "\n",
    "\n",
    "sc = StandardScaler()\n",
    "\n",
    "X_train = sc.fit_transform(X_train)\n",
    "\n",
    "X_test = sc.transform(X_test)"
   ]
  },
  {
   "cell_type": "code",
   "execution_count": 6,
   "metadata": {},
   "outputs": [],
   "source": [
    "from sklearn.linear_model import LogisticRegression"
   ]
  },
  {
   "cell_type": "code",
   "execution_count": 7,
   "metadata": {},
   "outputs": [
    {
     "data": {
      "text/plain": [
       "LogisticRegression(random_state=0)"
      ]
     },
     "execution_count": 7,
     "metadata": {},
     "output_type": "execute_result"
    }
   ],
   "source": [
    "LogReg_clf = LogisticRegression(random_state = 0)\n",
    "\n",
    "LogReg_clf.fit(X_train, y_train)"
   ]
  },
  {
   "cell_type": "code",
   "execution_count": 8,
   "metadata": {},
   "outputs": [],
   "source": [
    "y_pred = LogReg_clf.predict(X_test)"
   ]
  },
  {
   "cell_type": "code",
   "execution_count": 9,
   "metadata": {},
   "outputs": [
    {
     "name": "stdout",
     "output_type": "stream",
     "text": [
      "0.8904208998548622\n",
      "[[1815  227]\n",
      " [ 226 1866]]\n"
     ]
    }
   ],
   "source": [
    "from sklearn.metrics import confusion_matrix, accuracy_score\n",
    "\n",
    "\n",
    "acc =  accuracy_score(y_test, y_pred)\n",
    "\n",
    "cm = confusion_matrix(y_test, y_pred)\n",
    "\n",
    "\n",
    "print(acc)\n",
    "\n",
    "print(cm)"
   ]
  },
  {
   "cell_type": "code",
   "execution_count": 1,
   "metadata": {},
   "outputs": [],
   "source": [
    "from tensorflow.keras.layers import Input, Lambda, Dense, Flatten,Conv2D\n",
    "from tensorflow.keras.models import Model\n",
    "from tensorflow.keras.applications.vgg19 import VGG19\n",
    "from tensorflow.keras.applications.resnet50 import preprocess_input\n",
    "from tensorflow.keras.preprocessing import image\n",
    "from tensorflow.keras.preprocessing.image import ImageDataGenerator,load_img\n",
    "from tensorflow.keras.models import Sequential\n",
    "import numpy as np\n",
    "from glob import glob\n",
    "import matplotlib.pyplot as plt"
   ]
  },
  {
   "cell_type": "code",
   "execution_count": 11,
   "metadata": {},
   "outputs": [],
   "source": [
    "IMAGE_SIZE=[224,224]\n",
    "train_path='C:/Users/HIBA/OneDrive/Desktop/Dataset/Train'\n",
    "test_path='C:/Users/HIBA/OneDrive/Desktop/Dataset/Test'"
   ]
  },
  {
   "cell_type": "code",
   "execution_count": 15,
   "metadata": {},
   "outputs": [],
   "source": [
    "vgg=VGG19(input_shape=IMAGE_SIZE+[3],weights='imagenet',include_top=False)"
   ]
  },
  {
   "cell_type": "code",
   "execution_count": 16,
   "metadata": {},
   "outputs": [],
   "source": [
    "for layers in vgg.layers:\n",
    "    layers.trainable=False\n",
    "#now using glob gor getting number of classes to predicted with the help of folder\n",
    "folder=glob('C:/Users/HIBA/OneDrive/Desktop/Dataset/Train/*')"
   ]
  },
  {
   "cell_type": "code",
   "execution_count": 17,
   "metadata": {},
   "outputs": [],
   "source": [
    "from tensorflow.keras.layers import Flatten"
   ]
  },
  {
   "cell_type": "code",
   "execution_count": 18,
   "metadata": {},
   "outputs": [],
   "source": [
    "x=Flatten()(vgg.output)"
   ]
  },
  {
   "cell_type": "code",
   "execution_count": 19,
   "metadata": {},
   "outputs": [],
   "source": [
    "prediction=Dense(len(folder),activation='softmax')(x)\n",
    "model=Model(inputs=vgg.input,outputs=prediction)"
   ]
  },
  {
   "cell_type": "code",
   "execution_count": 12,
   "metadata": {},
   "outputs": [],
   "source": [
    "\n",
    "from tensorflow.keras.preprocessing.image import ImageDataGenerator\n",
    "train_datagen=ImageDataGenerator(rescale=1./255,\n",
    "                                shear_range=0.1,\n",
    "                                zoom_range=0.2,\n",
    "                                horizontal_flip=True)\n",
    "test_datagen=ImageDataGenerator(rescale=1./255)\n",
    "training_set=train_datagen.flow_from_directory(r'C:/Users/HIBA/OneDrive/Desktop/Dataset/Train',\n",
    "                                              target_size=(224,224),batch_size=32,class_mode='categorical')\n",
    "test_set=test_datagen.flow_from_directory(r'C:/Users/HIBA/OneDrive/Desktop/Dataset/Test',\n",
    "                                         target_size=(224,224),batch_size=32,class_mode='categorical')"
   ]
  },
  {
   "cell_type": "code",
   "execution_count": 22,
   "metadata": {},
   "outputs": [
    {
     "name": "stdout",
     "output_type": "stream",
     "text": [
      "Model: \"model\"\n",
      "_________________________________________________________________\n",
      "Layer (type)                 Output Shape              Param #   \n",
      "=================================================================\n",
      "input_2 (InputLayer)         [(None, 224, 224, 3)]     0         \n",
      "_________________________________________________________________\n",
      "block1_conv1 (Conv2D)        (None, 224, 224, 64)      1792      \n",
      "_________________________________________________________________\n",
      "block1_conv2 (Conv2D)        (None, 224, 224, 64)      36928     \n",
      "_________________________________________________________________\n",
      "block1_pool (MaxPooling2D)   (None, 112, 112, 64)      0         \n",
      "_________________________________________________________________\n",
      "block2_conv1 (Conv2D)        (None, 112, 112, 128)     73856     \n",
      "_________________________________________________________________\n",
      "block2_conv2 (Conv2D)        (None, 112, 112, 128)     147584    \n",
      "_________________________________________________________________\n",
      "block2_pool (MaxPooling2D)   (None, 56, 56, 128)       0         \n",
      "_________________________________________________________________\n",
      "block3_conv1 (Conv2D)        (None, 56, 56, 256)       295168    \n",
      "_________________________________________________________________\n",
      "block3_conv2 (Conv2D)        (None, 56, 56, 256)       590080    \n",
      "_________________________________________________________________\n",
      "block3_conv3 (Conv2D)        (None, 56, 56, 256)       590080    \n",
      "_________________________________________________________________\n",
      "block3_conv4 (Conv2D)        (None, 56, 56, 256)       590080    \n",
      "_________________________________________________________________\n",
      "block3_pool (MaxPooling2D)   (None, 28, 28, 256)       0         \n",
      "_________________________________________________________________\n",
      "block4_conv1 (Conv2D)        (None, 28, 28, 512)       1180160   \n",
      "_________________________________________________________________\n",
      "block4_conv2 (Conv2D)        (None, 28, 28, 512)       2359808   \n",
      "_________________________________________________________________\n",
      "block4_conv3 (Conv2D)        (None, 28, 28, 512)       2359808   \n",
      "_________________________________________________________________\n",
      "block4_conv4 (Conv2D)        (None, 28, 28, 512)       2359808   \n",
      "_________________________________________________________________\n",
      "block4_pool (MaxPooling2D)   (None, 14, 14, 512)       0         \n",
      "_________________________________________________________________\n",
      "block5_conv1 (Conv2D)        (None, 14, 14, 512)       2359808   \n",
      "_________________________________________________________________\n",
      "block5_conv2 (Conv2D)        (None, 14, 14, 512)       2359808   \n",
      "_________________________________________________________________\n",
      "block5_conv3 (Conv2D)        (None, 14, 14, 512)       2359808   \n",
      "_________________________________________________________________\n",
      "block5_conv4 (Conv2D)        (None, 14, 14, 512)       2359808   \n",
      "_________________________________________________________________\n",
      "block5_pool (MaxPooling2D)   (None, 7, 7, 512)         0         \n",
      "_________________________________________________________________\n",
      "flatten_1 (Flatten)          (None, 25088)             0         \n",
      "_________________________________________________________________\n",
      "dense (Dense)                (None, 2)                 50178     \n",
      "=================================================================\n",
      "Total params: 20,074,562\n",
      "Trainable params: 50,178\n",
      "Non-trainable params: 20,024,384\n",
      "_________________________________________________________________\n"
     ]
    }
   ],
   "source": [
    "model.summary()"
   ]
  },
  {
   "cell_type": "code",
   "execution_count": 13,
   "metadata": {},
   "outputs": [],
   "source": [
    "model.compile(\n",
    "  loss='categorical_crossentropy',\n",
    "  optimizer='adam',\n",
    "  metrics=['accuracy']\n",
    ")"
   ]
  },
  {
   "cell_type": "code",
   "execution_count": 14,
   "metadata": {},
   "outputs": [],
   "source": [
    "from tensorflow.keras.preprocessing.image import ImageDataGenerator\n",
    "train_datagen=ImageDataGenerator(rescale=1./255,\n",
    "                                shear_range=0.1,\n",
    "                                zoom_range=0.2,\n",
    "                                horizontal_flip=True)"
   ]
  },
  {
   "cell_type": "code",
   "execution_count": 51,
   "metadata": {},
   "outputs": [],
   "source": [
    "test_datagen=ImageDataGenerator(rescale=1./255)\n",
    "training_set=train_datagen.flow_from_directory('C:/Users/HIBA/OneDrive/Desktop/Dataset/Train',\n",
    "                                              target_size=(224,224),batch_size=32,class_mode='categorical')\n",
    "test_set=test_datagen.flow_from_directory('C:/Users/HIBA/OneDrive/Desktop/Dataset/Test',\n",
    "                                         target_size=(224,224),batch_size=32,class_mode='categorical')"
   ]
  },
  {
   "cell_type": "code",
   "execution_count": 15,
   "metadata": {},
   "outputs": [
    {
     "name": "stderr",
     "output_type": "stream",
     "text": [
      "C:\\Users\\raman\\anaconda3\\lib\\site-packages\\tensorflow\\python\\keras\\engine\\training.py:1844: UserWarning: `Model.fit_generator` is deprecated and will be removed in a future version. Please use `Model.fit`, which supports generators.\n",
      "  warnings.warn('`Model.fit_generator` is deprecated and '\n"
     ]
    },
    {
     "name": "stdout",
     "output_type": "stream",
     "text": [
      "Epoch 1/20\n",
      "13/13 [==============================] - 117s 9s/step - loss: 1.5391 - accuracy: 0.6014 - val_loss: 0.6567 - val_accuracy: 0.6716\n",
      "Epoch 2/20\n",
      "13/13 [==============================] - 121s 9s/step - loss: 0.7072 - accuracy: 0.6684 - val_loss: 0.6574 - val_accuracy: 0.6716\n",
      "Epoch 3/20\n",
      "13/13 [==============================] - 120s 9s/step - loss: 0.4569 - accuracy: 0.7503 - val_loss: 0.4737 - val_accuracy: 0.7239\n",
      "Epoch 4/20\n",
      "13/13 [==============================] - 122s 10s/step - loss: 0.3423 - accuracy: 0.8549 - val_loss: 0.4725 - val_accuracy: 0.7612\n",
      "Epoch 5/20\n",
      "13/13 [==============================] - 123s 10s/step - loss: 0.3611 - accuracy: 0.8437 - val_loss: 0.6120 - val_accuracy: 0.7015\n",
      "Epoch 6/20\n",
      "13/13 [==============================] - 124s 10s/step - loss: 0.3727 - accuracy: 0.8319 - val_loss: 0.3849 - val_accuracy: 0.7985\n",
      "Epoch 7/20\n",
      "13/13 [==============================] - 120s 9s/step - loss: 0.2827 - accuracy: 0.8905 - val_loss: 0.4339 - val_accuracy: 0.7836\n",
      "Epoch 8/20\n",
      "13/13 [==============================] - 125s 10s/step - loss: 0.2178 - accuracy: 0.9349 - val_loss: 0.3430 - val_accuracy: 0.8433\n",
      "Epoch 9/20\n",
      "13/13 [==============================] - 129s 10s/step - loss: 0.2124 - accuracy: 0.9422 - val_loss: 0.3190 - val_accuracy: 0.8806\n",
      "Epoch 10/20\n",
      "13/13 [==============================] - 123s 10s/step - loss: 0.2030 - accuracy: 0.9362 - val_loss: 0.3066 - val_accuracy: 0.8881\n",
      "Epoch 11/20\n",
      "13/13 [==============================] - 121s 9s/step - loss: 0.2275 - accuracy: 0.9118 - val_loss: 0.4428 - val_accuracy: 0.7612\n",
      "Epoch 12/20\n",
      "13/13 [==============================] - 120s 9s/step - loss: 0.2298 - accuracy: 0.8905 - val_loss: 0.3184 - val_accuracy: 0.8657\n",
      "Epoch 13/20\n",
      "13/13 [==============================] - 129s 10s/step - loss: 0.2017 - accuracy: 0.9263 - val_loss: 0.3648 - val_accuracy: 0.8134\n",
      "Epoch 14/20\n",
      "13/13 [==============================] - 125s 10s/step - loss: 0.2494 - accuracy: 0.9209 - val_loss: 0.4573 - val_accuracy: 0.7612\n",
      "Epoch 15/20\n",
      "13/13 [==============================] - 126s 10s/step - loss: 0.1749 - accuracy: 0.9384 - val_loss: 0.3214 - val_accuracy: 0.8582\n",
      "Epoch 16/20\n",
      "13/13 [==============================] - 128s 10s/step - loss: 0.1563 - accuracy: 0.9624 - val_loss: 0.3216 - val_accuracy: 0.8433\n",
      "Epoch 17/20\n",
      "13/13 [==============================] - 123s 10s/step - loss: 0.1826 - accuracy: 0.9358 - val_loss: 0.2881 - val_accuracy: 0.8955\n",
      "Epoch 18/20\n",
      "13/13 [==============================] - 120s 9s/step - loss: 0.1300 - accuracy: 0.9693 - val_loss: 0.2567 - val_accuracy: 0.9179\n",
      "Epoch 19/20\n",
      "13/13 [==============================] - 121s 9s/step - loss: 0.1361 - accuracy: 0.9582 - val_loss: 0.2378 - val_accuracy: 0.9179\n",
      "Epoch 20/20\n",
      "13/13 [==============================] - 121s 9s/step - loss: 0.1591 - accuracy: 0.9378 - val_loss: 0.3149 - val_accuracy: 0.8582\n"
     ]
    }
   ],
   "source": [
    "raman=model.fit_generator(training_set,validation_data=test_set,epochs=20,steps_per_epoch=len(training_set),validation_steps=len(test_set))"
   ]
  },
  {
   "cell_type": "code",
   "execution_count": 16,
   "metadata": {},
   "outputs": [
    {
     "data": {
      "image/png": "[encoded data removed]",
      "text/plain": [
       "<Figure size 432x288 with 1 Axes>"
      ]
     },
     "metadata": {
      "needs_background": "light"
     },
     "output_type": "display_data"
    },
    {
     "data": {
      "image/png": "[encoded data removed]",
      "text/plain": [
       "<Figure size 432x288 with 1 Axes>"
      ]
     },
     "metadata": {
      "needs_background": "light"
     },
     "output_type": "display_data"
    },
    {
     "data": {
      "text/plain": [
       "<Figure size 432x288 with 0 Axes>"
      ]
     },
     "metadata": {},
     "output_type": "display_data"
    }
   ],
   "source": [
    "plt.plot(raman.history['loss'], label='train loss')\n",
    "plt.plot(raman.history['val_loss'], label='val loss')\n",
    "plt.legend()\n",
    "plt.show()\n",
    "plt.savefig('LossVal_loss')\n",
    "\n",
    "# plot the accuracy\n",
    "plt.plot(raman.history['accuracy'], label='train acc')\n",
    "plt.plot(raman.history['val_accuracy'], label='val acc')\n",
    "plt.legend()\n",
    "plt.show()\n",
    "plt.savefig('AccVal_acc')"
   ]
  },
  {
   "cell_type": "code",
   "execution_count": 17,
   "metadata": {},
   "outputs": [],
   "source": [
    "from tensorflow.keras.models import load_model\n",
    "\n",
    "model.save('pc_model_vgg19.h5')\n"
   ]
  },
  {
   "cell_type": "code",
   "execution_count": 233,
   "metadata": {},
   "outputs": [
    {
     "data": {
      "image/png": "[encoded data removed]",
      "text/plain": [
       "<Figure size 432x288 with 1 Axes>"
      ]
     },
     "metadata": {
      "needs_background": "light"
     },
     "output_type": "display_data"
    }
   ],
   "source": [
    "x,y = test_set.next()\n",
    "for i in range(0,1):\n",
    "    image = x[i]\n",
    "    plt.imshow(image)\n",
    "    plt.show()"
   ]
  },
  {
   "cell_type": "code",
   "execution_count": 235,
   "metadata": {},
   "outputs": [
    {
     "data": {
      "image/png": "[encoded data removed]",
      "text/plain": [
       "<Figure size 432x288 with 1 Axes>"
      ]
     },
     "metadata": {
      "needs_background": "light"
     },
     "output_type": "display_data"
    }
   ],
   "source": [
    "x,y = training_set.next()\n",
    "for i in range(0,1):\n",
    "    image = x[i]\n",
    "    plt.imshow(image)\n",
    "    plt.show()"
   ]
  },
  {
   "cell_type": "code",
   "execution_count": 14,
   "metadata": {},
   "outputs": [
    {
     "name": "stdout",
     "output_type": "stream",
     "text": [
      "[[2.34840065e-01 7.65159965e-01]\n",
      " [9.99336302e-01 6.63684041e-04]\n",
      " [9.96539831e-01 3.46016977e-03]\n",
      " [9.98329937e-01 1.67010387e-03]\n",
      " [9.99126613e-01 8.73412180e-04]\n",
      " [9.25887167e-01 7.41128176e-02]\n",
      " [9.99953151e-01 4.68063772e-05]\n",
      " [6.68362975e-01 3.31637084e-01]\n",
      " [9.97021735e-01 2.97827297e-03]\n",
      " [8.63832653e-01 1.36167303e-01]\n",
      " [1.90656036e-01 8.09343934e-01]\n",
      " [8.10076296e-01 1.89923689e-01]\n",
      " [3.57342884e-02 9.64265645e-01]\n",
      " [1.64807618e-01 8.35192382e-01]\n",
      " [8.59561384e-01 1.40438691e-01]\n",
      " [9.63913560e-01 3.60864289e-02]\n",
      " [8.27305079e-01 1.72694892e-01]\n",
      " [7.63976574e-02 9.23602343e-01]\n",
      " [9.98799324e-01 1.20071392e-03]\n",
      " [7.88218677e-01 2.11781323e-01]\n",
      " [1.15393281e-01 8.84606719e-01]\n",
      " [9.99796093e-01 2.03962045e-04]\n",
      " [3.18095833e-01 6.81904197e-01]\n",
      " [4.10858542e-01 5.89141428e-01]\n",
      " [5.42866468e-01 4.57133502e-01]\n",
      " [9.05407429e-01 9.45926011e-02]\n",
      " [1.80584729e-01 8.19415271e-01]\n",
      " [7.22313702e-01 2.77686357e-01]\n",
      " [3.11334699e-01 6.88665330e-01]\n",
      " [9.99995589e-01 4.45602109e-06]\n",
      " [9.99310613e-01 6.89429231e-04]\n",
      " [9.46607217e-02 9.05339301e-01]\n",
      " [9.94469404e-01 5.53062279e-03]\n",
      " [8.22395444e-01 1.77604496e-01]\n",
      " [9.29967463e-01 7.00325146e-02]\n",
      " [9.77558434e-01 2.24415436e-02]\n",
      " [9.98818099e-01 1.18191331e-03]\n",
      " [3.31787199e-01 6.68212831e-01]\n",
      " [9.83168244e-01 1.68317631e-02]\n",
      " [9.73038316e-01 2.69617308e-02]\n",
      " [4.03870404e-01 5.96129596e-01]\n",
      " [3.90351154e-02 9.60964859e-01]\n",
      " [9.99142408e-01 8.57565552e-04]\n",
      " [9.99936342e-01 6.36746045e-05]\n",
      " [9.90683794e-01 9.31618083e-03]\n",
      " [9.99201238e-01 7.98795081e-04]\n",
      " [6.85597807e-02 9.31440175e-01]\n",
      " [9.36671913e-01 6.33280277e-02]\n",
      " [9.99471247e-01 5.28728531e-04]\n",
      " [6.21263199e-02 9.37873721e-01]\n",
      " [9.76185143e-01 2.38148943e-02]\n",
      " [9.99760330e-01 2.39680012e-04]\n",
      " [9.22894776e-01 7.71052241e-02]\n",
      " [9.33207944e-02 9.06679213e-01]\n",
      " [9.97837365e-01 2.16265745e-03]\n",
      " [9.30994749e-01 6.90052807e-02]\n",
      " [1.52269214e-01 8.47730756e-01]\n",
      " [9.84003127e-01 1.59968548e-02]\n",
      " [9.99520302e-01 4.79696959e-04]\n",
      " [7.92321861e-01 2.07678080e-01]\n",
      " [7.86092758e-01 2.13907272e-01]\n",
      " [3.05730134e-01 6.94269896e-01]\n",
      " [9.99998212e-01 1.78034804e-06]\n",
      " [2.87373155e-01 7.12626815e-01]\n",
      " [5.32533042e-02 9.46746647e-01]\n",
      " [1.28104687e-01 8.71895373e-01]\n",
      " [9.96606827e-01 3.39320186e-03]\n",
      " [9.99162793e-01 8.37188039e-04]\n",
      " [2.93603539e-01 7.06396401e-01]\n",
      " [9.62973237e-01 3.70268151e-02]\n",
      " [1.92266718e-01 8.07733238e-01]\n",
      " [9.92393851e-01 7.60619761e-03]\n",
      " [1.39260247e-01 8.60739768e-01]\n",
      " [7.92338252e-01 2.07661733e-01]\n",
      " [8.58370587e-02 9.14162934e-01]\n",
      " [1.00000000e+00 1.08898988e-08]\n",
      " [5.28388470e-02 9.47161198e-01]\n",
      " [2.43438199e-01 7.56561875e-01]\n",
      " [9.02856708e-01 9.71432850e-02]\n",
      " [9.42867160e-01 5.71328774e-02]\n",
      " [6.12665296e-01 3.87334794e-01]\n",
      " [8.10640156e-01 1.89359814e-01]\n",
      " [1.63038045e-01 8.36961985e-01]\n",
      " [9.93943036e-01 6.05698535e-03]\n",
      " [9.97402310e-01 2.59777205e-03]\n",
      " [1.41806841e-01 8.58193159e-01]\n",
      " [1.90139353e-01 8.09860647e-01]\n",
      " [2.84168392e-01 7.15831518e-01]\n",
      " [9.99994993e-01 5.01783506e-06]\n",
      " [9.48164523e-01 5.18354066e-02]\n",
      " [8.44530404e-01 1.55469611e-01]\n",
      " [4.27814513e-01 5.72185516e-01]\n",
      " [9.99920964e-01 7.90181439e-05]\n",
      " [9.78038967e-01 2.19610222e-02]\n",
      " [9.88611728e-02 9.01138842e-01]\n",
      " [9.99090552e-01 9.09422408e-04]\n",
      " [6.01894595e-02 9.39810574e-01]\n",
      " [7.33549669e-02 9.26645041e-01]\n",
      " [9.96818066e-01 3.18185869e-03]\n",
      " [9.99899387e-01 1.00657169e-04]\n",
      " [1.20025359e-01 8.79974604e-01]\n",
      " [9.99693394e-01 3.06596572e-04]\n",
      " [1.37768030e-01 8.62231970e-01]\n",
      " [9.98596013e-01 1.40402641e-03]\n",
      " [9.99046981e-01 9.53003124e-04]\n",
      " [2.01854125e-01 7.98145890e-01]\n",
      " [1.08677253e-01 8.91322732e-01]\n",
      " [9.88963246e-01 1.10367490e-02]\n",
      " [8.91450703e-01 1.08549275e-01]\n",
      " [8.33614349e-01 1.66385591e-01]\n",
      " [4.84861225e-01 5.15138745e-01]\n",
      " [7.98213542e-01 2.01786488e-01]\n",
      " [4.95511144e-01 5.04488885e-01]\n",
      " [9.79661465e-01 2.03385856e-02]\n",
      " [9.99940276e-01 5.96792088e-05]\n",
      " [7.66681850e-01 2.33318105e-01]\n",
      " [8.45718458e-02 9.15428102e-01]\n",
      " [1.21924669e-01 8.78075302e-01]\n",
      " [9.99999046e-01 1.01044725e-06]\n",
      " [9.97693717e-01 2.30624736e-03]\n",
      " [4.71838862e-02 9.52816069e-01]\n",
      " [1.00000000e+00 3.13958110e-10]\n",
      " [9.97397304e-01 2.60273833e-03]\n",
      " [9.71169889e-01 2.88301334e-02]\n",
      " [3.31574827e-01 6.68425202e-01]\n",
      " [3.90304178e-01 6.09695852e-01]\n",
      " [7.94593096e-02 9.20540631e-01]\n",
      " [9.99999285e-01 7.07444599e-07]\n",
      " [9.12235737e-01 8.77642035e-02]\n",
      " [1.06536746e-01 8.93463314e-01]\n",
      " [1.98953927e-01 8.01046073e-01]\n",
      " [1.52967826e-01 8.47032130e-01]\n",
      " [9.99975324e-01 2.46682903e-05]\n",
      " [2.58303821e-01 7.41696239e-01]]\n"
     ]
    }
   ],
   "source": [
    "from tensorflow.keras.models import load_model\n",
    "model=load_model('model_vgg19.h5')\n",
    "y_pred=model.predict(test_set)\n",
    "print(y_pred)"
   ]
  },
  {
   "cell_type": "code",
   "execution_count": 15,
   "metadata": {},
   "outputs": [
    {
     "data": {
      "text/plain": [
       "array([[3.31442088e-01, 6.68557882e-01],\n",
       "       [4.75825779e-02, 9.52417433e-01],\n",
       "       [9.99738157e-01, 2.61776673e-04],\n",
       "       [7.34232366e-01, 2.65767634e-01],\n",
       "       [1.30529940e-01, 8.69470060e-01],\n",
       "       [2.16837287e-01, 7.83162713e-01],\n",
       "       [9.99619842e-01, 3.80074343e-04],\n",
       "       [3.48637626e-02, 9.65136230e-01],\n",
       "       [1.52060136e-01, 8.47939849e-01],\n",
       "       [9.92206156e-01, 7.79378135e-03],\n",
       "       [2.15491727e-01, 7.84508288e-01],\n",
       "       [9.99944091e-01, 5.59417094e-05],\n",
       "       [2.50607789e-01, 7.49392211e-01],\n",
       "       [2.30343550e-01, 7.69656420e-01],\n",
       "       [9.95074451e-01, 4.92556207e-03],\n",
       "       [9.62652743e-01, 3.73472497e-02],\n",
       "       [1.00000000e+00, 9.77523840e-10],\n",
       "       [2.65557587e-01, 7.34442472e-01],\n",
       "       [5.38976431e-01, 4.61023569e-01],\n",
       "       [6.71470463e-02, 9.32852924e-01],\n",
       "       [1.30425572e-01, 8.69574428e-01],\n",
       "       [9.99961853e-01, 3.81934733e-05],\n",
       "       [3.43641639e-01, 6.56358361e-01],\n",
       "       [1.65047511e-01, 8.34952474e-01],\n",
       "       [8.06789339e-01, 1.93210676e-01],\n",
       "       [3.17761600e-01, 6.82238400e-01],\n",
       "       [9.99999642e-01, 3.17260913e-07],\n",
       "       [3.20633613e-02, 9.67936575e-01],\n",
       "       [9.98305917e-01, 1.69412745e-03],\n",
       "       [1.48378983e-01, 8.51621091e-01],\n",
       "       [9.97244239e-01, 2.75579258e-03],\n",
       "       [1.95890039e-01, 8.04109991e-01],\n",
       "       [9.97466326e-01, 2.53366586e-03],\n",
       "       [8.94653916e-01, 1.05346113e-01],\n",
       "       [9.99817431e-01, 1.82603428e-04],\n",
       "       [4.91960764e-01, 5.08039236e-01],\n",
       "       [8.79449099e-02, 9.12055016e-01],\n",
       "       [2.57491708e-01, 7.42508292e-01],\n",
       "       [1.64076686e-01, 8.35923254e-01],\n",
       "       [4.94871289e-01, 5.05128741e-01],\n",
       "       [1.43048108e-01, 8.56951892e-01],\n",
       "       [4.05295491e-01, 5.94704509e-01],\n",
       "       [9.99997497e-01, 2.47686353e-06],\n",
       "       [4.28068966e-01, 5.71931005e-01],\n",
       "       [4.33512092e-01, 5.66487849e-01],\n",
       "       [9.99990344e-01, 9.63138245e-06],\n",
       "       [9.99924541e-01, 7.54037901e-05],\n",
       "       [9.99501824e-01, 4.98206238e-04],\n",
       "       [5.73279858e-01, 4.26720142e-01],\n",
       "       [9.97963190e-01, 2.03677383e-03],\n",
       "       [9.57436323e-01, 4.25637029e-02],\n",
       "       [3.84277962e-02, 9.61572230e-01],\n",
       "       [9.75313604e-01, 2.46863384e-02],\n",
       "       [6.31098032e-01, 3.68901938e-01],\n",
       "       [1.09003469e-01, 8.90996456e-01],\n",
       "       [5.03856778e-01, 4.96143222e-01],\n",
       "       [9.09038365e-01, 9.09615904e-02],\n",
       "       [3.83379906e-01, 6.16620064e-01],\n",
       "       [2.27050245e-01, 7.72949755e-01],\n",
       "       [9.99998569e-01, 1.43896114e-06],\n",
       "       [9.99999046e-01, 9.33728643e-07],\n",
       "       [9.65589166e-01, 3.44108082e-02],\n",
       "       [3.13606560e-01, 6.86393380e-01],\n",
       "       [9.99801576e-01, 1.98403330e-04],\n",
       "       [2.04844579e-01, 7.95155406e-01],\n",
       "       [9.63751853e-01, 3.62481549e-02],\n",
       "       [1.12899326e-01, 8.87100637e-01],\n",
       "       [9.99974012e-01, 2.60047782e-05],\n",
       "       [9.71519351e-01, 2.84806322e-02],\n",
       "       [9.99998212e-01, 1.76226308e-06],\n",
       "       [1.82131641e-02, 9.81786907e-01],\n",
       "       [1.61721751e-01, 8.38278294e-01],\n",
       "       [9.93640363e-01, 6.35966752e-03],\n",
       "       [3.07150751e-01, 6.92849278e-01],\n",
       "       [9.93988633e-01, 6.01134030e-03],\n",
       "       [9.30094540e-01, 6.99054822e-02],\n",
       "       [9.66784775e-01, 3.32151838e-02],\n",
       "       [9.99999881e-01, 1.09004183e-07],\n",
       "       [9.95475233e-01, 4.52475995e-03],\n",
       "       [7.43564069e-02, 9.25643563e-01],\n",
       "       [9.81067777e-01, 1.89322326e-02],\n",
       "       [9.60836053e-01, 3.91639806e-02],\n",
       "       [7.95442313e-02, 9.20455813e-01],\n",
       "       [9.99860525e-01, 1.39423457e-04],\n",
       "       [1.08884625e-01, 8.91115367e-01],\n",
       "       [5.44399768e-02, 9.45560038e-01],\n",
       "       [9.99960661e-01, 3.93881601e-05],\n",
       "       [8.42596963e-02, 9.15740311e-01],\n",
       "       [9.99999762e-01, 2.23767003e-07],\n",
       "       [9.85041678e-01, 1.49582950e-02],\n",
       "       [8.90345573e-01, 1.09654464e-01],\n",
       "       [9.99186695e-01, 8.13318591e-04],\n",
       "       [9.92634475e-01, 7.36558205e-03],\n",
       "       [9.64418501e-02, 9.03558195e-01],\n",
       "       [9.99620795e-01, 3.79154779e-04],\n",
       "       [4.72657531e-01, 5.27342439e-01],\n",
       "       [9.99946833e-01, 5.31514052e-05],\n",
       "       [9.95632112e-01, 4.36780695e-03],\n",
       "       [6.14167035e-01, 3.85832936e-01],\n",
       "       [3.97577882e-01, 6.02422059e-01],\n",
       "       [8.97931695e-01, 1.02068275e-01],\n",
       "       [7.00926840e-01, 2.99073249e-01],\n",
       "       [8.36320639e-01, 1.63679346e-01],\n",
       "       [9.82912540e-01, 1.70874558e-02],\n",
       "       [4.02543619e-02, 9.59745646e-01],\n",
       "       [5.14398590e-02, 9.48560178e-01],\n",
       "       [8.94105613e-01, 1.05894364e-01],\n",
       "       [9.99939322e-01, 6.06827052e-05],\n",
       "       [9.99957561e-01, 4.24199970e-05],\n",
       "       [6.79630756e-01, 3.20369214e-01],\n",
       "       [9.99032021e-01, 9.68035019e-04],\n",
       "       [4.24462080e-01, 5.75537920e-01],\n",
       "       [8.95374417e-01, 1.04625627e-01],\n",
       "       [5.29440522e-01, 4.70559418e-01],\n",
       "       [9.98540401e-01, 1.45963102e-03],\n",
       "       [1.70704853e-02, 9.82929468e-01],\n",
       "       [4.04089876e-02, 9.59590971e-01],\n",
       "       [9.99936104e-01, 6.39233185e-05],\n",
       "       [1.73173502e-01, 8.26826513e-01],\n",
       "       [1.02629885e-01, 8.97370160e-01],\n",
       "       [1.71682402e-01, 8.28317642e-01],\n",
       "       [5.79085827e-01, 4.20914143e-01],\n",
       "       [9.94753361e-01, 5.24660246e-03],\n",
       "       [6.43140912e-01, 3.56859028e-01],\n",
       "       [9.99779880e-01, 2.20111979e-04],\n",
       "       [9.99999881e-01, 1.39708106e-07],\n",
       "       [7.50682890e-01, 2.49317110e-01],\n",
       "       [1.07234642e-01, 8.92765343e-01],\n",
       "       [9.01406184e-02, 9.09859419e-01],\n",
       "       [9.99994278e-01, 5.66591962e-06],\n",
       "       [2.51352847e-01, 7.48647153e-01],\n",
       "       [2.70040154e-01, 7.29959846e-01],\n",
       "       [2.57975273e-02, 9.74202454e-01],\n",
       "       [9.99999166e-01, 8.19972456e-07],\n",
       "       [7.69661009e-01, 2.30338901e-01],\n",
       "       [3.84000510e-01, 6.15999460e-01],\n",
       "       [1.04596406e-01, 8.95403564e-01],\n",
       "       [5.30574508e-02, 9.46942568e-01],\n",
       "       [2.60435194e-01, 7.39564776e-01],\n",
       "       [9.54967558e-01, 4.50324342e-02],\n",
       "       [9.76285160e-01, 2.37148833e-02],\n",
       "       [1.14252299e-01, 8.85747671e-01],\n",
       "       [9.99547303e-01, 4.52697597e-04],\n",
       "       [9.97825682e-01, 2.17431760e-03],\n",
       "       [1.70285508e-01, 8.29714537e-01],\n",
       "       [9.91134524e-01, 8.86540301e-03],\n",
       "       [9.79619622e-01, 2.03803461e-02],\n",
       "       [1.03692479e-01, 8.96307468e-01],\n",
       "       [1.27930745e-01, 8.72069299e-01],\n",
       "       [9.59681094e-01, 4.03189063e-02],\n",
       "       [1.12673327e-01, 8.87326658e-01],\n",
       "       [8.93239617e-01, 1.06760427e-01],\n",
       "       [2.01752797e-01, 7.98247159e-01],\n",
       "       [9.98207331e-01, 1.79266860e-03],\n",
       "       [2.33577937e-01, 7.66422033e-01],\n",
       "       [4.74388078e-02, 9.52561140e-01],\n",
       "       [9.97577846e-01, 2.42221449e-03],\n",
       "       [1.17397904e-01, 8.82602096e-01],\n",
       "       [8.79186928e-01, 1.20813124e-01],\n",
       "       [7.21759737e-01, 2.78240234e-01],\n",
       "       [1.69625506e-01, 8.30374539e-01],\n",
       "       [5.59060089e-02, 9.44093943e-01],\n",
       "       [1.74381033e-01, 8.25619042e-01],\n",
       "       [1.27465963e-01, 8.72533977e-01],\n",
       "       [2.87951440e-01, 7.12048531e-01],\n",
       "       [9.88990307e-01, 1.10096708e-02],\n",
       "       [3.18122990e-02, 9.68187749e-01],\n",
       "       [5.36082648e-02, 9.46391702e-01],\n",
       "       [1.95975184e-01, 8.04024816e-01],\n",
       "       [3.28024358e-01, 6.71975672e-01],\n",
       "       [3.06455225e-01, 6.93544805e-01],\n",
       "       [9.55105007e-01, 4.48950417e-02],\n",
       "       [9.92597714e-02, 9.00740206e-01],\n",
       "       [9.99741614e-01, 2.58385990e-04],\n",
       "       [9.99999642e-01, 3.35489204e-07],\n",
       "       [2.87117958e-01, 7.12882042e-01],\n",
       "       [1.41074464e-01, 8.58925581e-01],\n",
       "       [9.92297709e-01, 7.70224025e-03],\n",
       "       [1.22769251e-01, 8.77230704e-01],\n",
       "       [9.98121798e-01, 1.87813211e-03],\n",
       "       [8.38197172e-01, 1.61802813e-01],\n",
       "       [9.99768436e-01, 2.31581304e-04],\n",
       "       [5.21542490e-01, 4.78457540e-01],\n",
       "       [1.81569204e-01, 8.18430781e-01],\n",
       "       [9.96256232e-01, 3.74373235e-03],\n",
       "       [9.98188913e-01, 1.81113498e-03],\n",
       "       [5.70679665e-01, 4.29320365e-01],\n",
       "       [8.83100808e-01, 1.16899244e-01],\n",
       "       [2.18662471e-01, 7.81337500e-01],\n",
       "       [7.95864701e-01, 2.04135269e-01],\n",
       "       [9.94912624e-01, 5.08735888e-03],\n",
       "       [1.57256216e-01, 8.42743814e-01],\n",
       "       [7.94720531e-01, 2.05279484e-01],\n",
       "       [9.62976098e-01, 3.70238684e-02],\n",
       "       [9.37011778e-01, 6.29882067e-02],\n",
       "       [5.53402722e-01, 4.46597308e-01],\n",
       "       [9.99725997e-01, 2.73995567e-04],\n",
       "       [9.99825180e-01, 1.74888541e-04],\n",
       "       [3.21836323e-01, 6.78163707e-01],\n",
       "       [9.21244383e-01, 7.87556097e-02],\n",
       "       [9.99357164e-01, 6.42840168e-04],\n",
       "       [9.99636650e-01, 3.63394327e-04],\n",
       "       [9.74897861e-01, 2.51021665e-02],\n",
       "       [9.99992013e-01, 8.00035832e-06],\n",
       "       [1.02986313e-01, 8.97013664e-01],\n",
       "       [9.99985695e-01, 1.42851222e-05],\n",
       "       [9.99481499e-01, 5.18477405e-04],\n",
       "       [6.64033517e-02, 9.33596671e-01],\n",
       "       [9.99987125e-01, 1.29090595e-05],\n",
       "       [7.95219988e-02, 9.20478046e-01],\n",
       "       [6.95519030e-01, 3.04480910e-01],\n",
       "       [7.62444511e-02, 9.23755527e-01],\n",
       "       [1.55263752e-01, 8.44736278e-01],\n",
       "       [9.74327862e-01, 2.56721266e-02],\n",
       "       [2.06894353e-02, 9.79310572e-01],\n",
       "       [9.87692177e-01, 1.23078628e-02],\n",
       "       [4.39848393e-01, 5.60151637e-01],\n",
       "       [1.28508896e-01, 8.71491075e-01],\n",
       "       [9.99963403e-01, 3.66342974e-05],\n",
       "       [1.91191360e-02, 9.80880857e-01],\n",
       "       [5.38132638e-02, 9.46186781e-01],\n",
       "       [5.62377609e-02, 9.43762243e-01],\n",
       "       [3.94695923e-02, 9.60530400e-01],\n",
       "       [9.97862518e-01, 2.13745842e-03],\n",
       "       [9.99647975e-01, 3.52078292e-04],\n",
       "       [9.98915076e-01, 1.08487881e-03],\n",
       "       [9.99979019e-01, 2.09822556e-05],\n",
       "       [9.99809921e-01, 1.90067047e-04],\n",
       "       [1.51386037e-02, 9.84861374e-01],\n",
       "       [3.41431618e-01, 6.58568382e-01],\n",
       "       [8.05040717e-01, 1.94959313e-01],\n",
       "       [7.23104119e-01, 2.76895881e-01],\n",
       "       [3.10128797e-02, 9.68987167e-01],\n",
       "       [1.01856403e-01, 8.98143589e-01],\n",
       "       [9.73091364e-01, 2.69086398e-02],\n",
       "       [3.76302749e-02, 9.62369680e-01],\n",
       "       [9.99007642e-01, 9.92383342e-04],\n",
       "       [9.97131824e-01, 2.86813756e-03],\n",
       "       [9.98543024e-01, 1.45695556e-03],\n",
       "       [9.13919151e-01, 8.60808864e-02],\n",
       "       [9.99989271e-01, 1.07381484e-05],\n",
       "       [9.99986649e-01, 1.33314616e-05],\n",
       "       [9.99880433e-01, 1.19539851e-04],\n",
       "       [3.64081621e-01, 6.35918379e-01],\n",
       "       [2.22931847e-01, 7.77068198e-01],\n",
       "       [1.60818934e-01, 8.39181006e-01],\n",
       "       [2.60193646e-01, 7.39806354e-01],\n",
       "       [7.55899549e-02, 9.24410045e-01],\n",
       "       [3.42608809e-01, 6.57391191e-01],\n",
       "       [6.59328476e-02, 9.34067190e-01],\n",
       "       [7.37708956e-02, 9.26229119e-01],\n",
       "       [1.03364903e-02, 9.89663541e-01],\n",
       "       [2.87159890e-01, 7.12840080e-01],\n",
       "       [9.99925375e-01, 7.45757789e-05],\n",
       "       [8.36574361e-02, 9.16342616e-01],\n",
       "       [9.99885440e-01, 1.14567141e-04],\n",
       "       [2.55874783e-01, 7.44125187e-01],\n",
       "       [1.38081595e-01, 8.61918390e-01],\n",
       "       [9.75164652e-01, 2.48354245e-02],\n",
       "       [9.81034160e-01, 1.89659242e-02],\n",
       "       [5.59821784e-01, 4.40178275e-01],\n",
       "       [2.47725978e-01, 7.52274036e-01],\n",
       "       [8.48540187e-01, 1.51459813e-01],\n",
       "       [9.86509740e-01, 1.34902271e-02],\n",
       "       [2.16447547e-01, 7.83552408e-01],\n",
       "       [2.98041031e-02, 9.70195949e-01],\n",
       "       [1.13671720e-01, 8.86328280e-01],\n",
       "       [9.76685822e-01, 2.33142339e-02],\n",
       "       [1.95468232e-01, 8.04531753e-01],\n",
       "       [7.97959343e-02, 9.20204103e-01],\n",
       "       [8.30518827e-02, 9.16948080e-01],\n",
       "       [9.99511957e-01, 4.87999438e-04],\n",
       "       [9.99565184e-01, 4.34836460e-04],\n",
       "       [9.99845862e-01, 1.54066191e-04],\n",
       "       [9.59703475e-02, 9.04029667e-01],\n",
       "       [2.61999309e-01, 7.38000691e-01],\n",
       "       [8.98525596e-01, 1.01474389e-01],\n",
       "       [9.92457986e-01, 7.54209654e-03],\n",
       "       [2.01998278e-01, 7.98001766e-01],\n",
       "       [7.61968940e-02, 9.23803091e-01],\n",
       "       [3.92699391e-01, 6.07300580e-01],\n",
       "       [9.99379277e-01, 6.20669220e-04],\n",
       "       [1.24981157e-01, 8.75018835e-01],\n",
       "       [9.50011387e-02, 9.04998839e-01],\n",
       "       [9.99911427e-01, 8.86223788e-05],\n",
       "       [4.06416923e-01, 5.93583047e-01],\n",
       "       [9.99713719e-01, 2.86226015e-04],\n",
       "       [9.99764621e-01, 2.35341256e-04],\n",
       "       [9.82045710e-01, 1.79542508e-02],\n",
       "       [3.20058256e-01, 6.79941773e-01],\n",
       "       [3.26988727e-01, 6.73011303e-01],\n",
       "       [1.88914284e-01, 8.11085641e-01],\n",
       "       [4.67125833e-01, 5.32874227e-01],\n",
       "       [9.36034441e-01, 6.39654696e-02],\n",
       "       [4.31836814e-01, 5.68163216e-01],\n",
       "       [9.91469920e-01, 8.53008311e-03],\n",
       "       [1.63381457e-01, 8.36618602e-01],\n",
       "       [9.99995828e-01, 4.11708834e-06],\n",
       "       [4.68357876e-02, 9.53164279e-01],\n",
       "       [9.98765826e-01, 1.23421173e-03],\n",
       "       [9.99953985e-01, 4.60640513e-05],\n",
       "       [9.98876989e-01, 1.12296140e-03],\n",
       "       [9.87910926e-02, 9.01208878e-01],\n",
       "       [6.75567031e-01, 3.24432939e-01],\n",
       "       [4.54633050e-02, 9.54536736e-01],\n",
       "       [1.26634061e-01, 8.73365939e-01],\n",
       "       [9.99994159e-01, 5.81117320e-06],\n",
       "       [8.50757897e-01, 1.49242088e-01],\n",
       "       [9.99998689e-01, 1.29936859e-06],\n",
       "       [9.95858967e-01, 4.14109463e-03],\n",
       "       [8.68642777e-02, 9.13135707e-01],\n",
       "       [9.36421692e-01, 6.35783374e-02],\n",
       "       [7.13895857e-01, 2.86104202e-01],\n",
       "       [9.73828137e-01, 2.61719357e-02],\n",
       "       [5.88760197e-01, 4.11239803e-01],\n",
       "       [9.92062628e-01, 7.93736335e-03],\n",
       "       [4.39232253e-02, 9.56076741e-01],\n",
       "       [9.99999762e-01, 2.07314727e-07],\n",
       "       [9.92819607e-01, 7.18034804e-03],\n",
       "       [9.76880074e-01, 2.31198780e-02],\n",
       "       [5.01393259e-01, 4.98606712e-01],\n",
       "       [3.45890559e-02, 9.65410888e-01],\n",
       "       [9.99996066e-01, 3.88497028e-06],\n",
       "       [9.99913216e-01, 8.67707859e-05],\n",
       "       [9.94355857e-01, 5.64411329e-03],\n",
       "       [9.99943018e-01, 5.69714975e-05],\n",
       "       [3.95391770e-02, 9.60460782e-01],\n",
       "       [9.99997258e-01, 2.68404938e-06],\n",
       "       [9.79435921e-01, 2.05640811e-02],\n",
       "       [3.97913270e-02, 9.60208714e-01],\n",
       "       [2.09699776e-02, 9.79030013e-01],\n",
       "       [1.60637379e-01, 8.39362681e-01],\n",
       "       [5.67629397e-01, 4.32370573e-01],\n",
       "       [5.81911206e-02, 9.41808879e-01],\n",
       "       [3.39439958e-02, 9.66055989e-01],\n",
       "       [9.99999762e-01, 2.28851647e-07],\n",
       "       [5.21121547e-02, 9.47887778e-01],\n",
       "       [9.98045325e-01, 1.95467519e-03],\n",
       "       [1.38521135e-01, 8.61478865e-01],\n",
       "       [9.99971747e-01, 2.82363362e-05],\n",
       "       [9.96725559e-01, 3.27439816e-03],\n",
       "       [9.99762475e-01, 2.37558721e-04],\n",
       "       [2.58539706e-01, 7.41460323e-01],\n",
       "       [1.69294059e-01, 8.30705941e-01],\n",
       "       [7.24170864e-01, 2.75829136e-01],\n",
       "       [9.99996781e-01, 3.21491621e-06],\n",
       "       [9.41193044e-01, 5.88068962e-02],\n",
       "       [8.64508808e-01, 1.35491192e-01],\n",
       "       [9.94604170e-01, 5.39577194e-03],\n",
       "       [6.49815351e-02, 9.35018480e-01],\n",
       "       [9.95082855e-01, 4.91712475e-03],\n",
       "       [9.99904990e-01, 9.50593749e-05],\n",
       "       [8.31977844e-01, 1.68022126e-01],\n",
       "       [9.99661565e-01, 3.38410144e-04],\n",
       "       [9.69400883e-01, 3.05991452e-02],\n",
       "       [9.99999642e-01, 3.72978235e-07],\n",
       "       [9.79114413e-01, 2.08855160e-02],\n",
       "       [9.98442471e-01, 1.55755470e-03],\n",
       "       [4.64831479e-02, 9.53516781e-01],\n",
       "       [8.36414471e-02, 9.16358531e-01],\n",
       "       [2.53484964e-01, 7.46515095e-01],\n",
       "       [1.79258987e-01, 8.20740998e-01],\n",
       "       [5.34987569e-01, 4.65012431e-01],\n",
       "       [9.99692082e-01, 3.07915936e-04],\n",
       "       [1.94315493e-01, 8.05684507e-01],\n",
       "       [9.68462288e-01, 3.15377824e-02],\n",
       "       [9.37103212e-01, 6.28967360e-02],\n",
       "       [2.13511586e-01, 7.86488354e-01],\n",
       "       [6.88818514e-01, 3.11181456e-01],\n",
       "       [2.76712812e-02, 9.72328663e-01],\n",
       "       [9.08798397e-01, 9.12016481e-02],\n",
       "       [9.99081373e-01, 9.18623235e-04],\n",
       "       [1.00000000e+00, 5.83861528e-08],\n",
       "       [1.47735402e-01, 8.52264643e-01],\n",
       "       [3.28975350e-01, 6.71024680e-01],\n",
       "       [9.79861856e-01, 2.01381240e-02],\n",
       "       [9.99770343e-01, 2.29680736e-04],\n",
       "       [1.74079806e-01, 8.25920224e-01],\n",
       "       [2.04503480e-02, 9.79549706e-01],\n",
       "       [2.30191693e-01, 7.69808292e-01],\n",
       "       [5.13838716e-02, 9.48616147e-01],\n",
       "       [4.19388488e-02, 9.58061159e-01],\n",
       "       [4.51434925e-02, 9.54856455e-01],\n",
       "       [1.00000000e+00, 1.03354338e-08],\n",
       "       [9.99005020e-01, 9.95017122e-04],\n",
       "       [9.99994874e-01, 5.14792691e-06],\n",
       "       [7.22969234e-01, 2.77030766e-01],\n",
       "       [1.93793342e-01, 8.06206703e-01],\n",
       "       [9.99924779e-01, 7.52436172e-05],\n",
       "       [9.73041356e-01, 2.69586835e-02],\n",
       "       [9.99943852e-01, 5.61234374e-05],\n",
       "       [9.99999762e-01, 2.00753774e-07],\n",
       "       [2.25829899e-01, 7.74170160e-01],\n",
       "       [9.97621000e-01, 2.37898575e-03],\n",
       "       [9.78172541e-01, 2.18275301e-02],\n",
       "       [1.01775281e-01, 8.98224771e-01],\n",
       "       [9.98117447e-01, 1.88258907e-03],\n",
       "       [5.78446239e-02, 9.42155302e-01],\n",
       "       [9.99996662e-01, 3.35952609e-06],\n",
       "       [8.96848142e-01, 1.03151873e-01],\n",
       "       [2.71598071e-01, 7.28401899e-01],\n",
       "       [7.99083561e-02, 9.20091629e-01],\n",
       "       [9.93555009e-01, 6.44500880e-03],\n",
       "       [9.28014994e-01, 7.19849318e-02],\n",
       "       [8.93549025e-01, 1.06450967e-01],\n",
       "       [9.99976873e-01, 2.31219383e-05],\n",
       "       [2.97442913e-01, 7.02557147e-01],\n",
       "       [1.00816548e-01, 8.99183393e-01],\n",
       "       [9.99500632e-01, 4.99416026e-04],\n",
       "       [2.72282660e-02, 9.72771764e-01],\n",
       "       [9.39126015e-01, 6.08740225e-02],\n",
       "       [1.62915036e-01, 8.37084949e-01],\n",
       "       [9.99999881e-01, 1.09724255e-07],\n",
       "       [9.99988675e-01, 1.12816733e-05],\n",
       "       [6.43872097e-02, 9.35612798e-01],\n",
       "       [9.01525497e-01, 9.84744877e-02]], dtype=float32)"
      ]
     },
     "execution_count": 15,
     "metadata": {},
     "output_type": "execute_result"
    }
   ],
   "source": [
    "y_pred=model.predict(training_set)\n",
    "y_pred"
   ]
  },
  {
   "cell_type": "code",
   "execution_count": 17,
   "metadata": {},
   "outputs": [
    {
     "name": "stderr",
     "output_type": "stream",
     "text": [
      "Clipping input data to the valid range for imshow with RGB data ([0..1] for floats or [0..255] for integers).\n"
     ]
    },
    {
     "data": {
      "image/png": "[encoded data removed]",
      "text/plain": [
       "<Figure size 432x288 with 1 Axes>"
      ]
     },
     "metadata": {
      "needs_background": "light"
     },
     "output_type": "display_data"
    }
   ],
   "source": [
    "#from tensorflow.keras.preprocessing import image\n",
    "#img=image.load_img('C:/Users/HIBA/OneDrive/Desktop/Dataset/Test/Uninfected/2.png',target_size=(224,224))\n",
    "#plt.imshow(img)\n",
    "from numpy import asarray\n",
    "from PIL import Image\n",
    "\n",
    "# load image\n",
    "image = Image.open('C:/Users/HIBA/OneDrive/Desktop/Dataset/Test/Parasite/C39P4thinF_original_IMG_20150622_105554_cell_14.png')\n",
    "newsize = (224, 224) \n",
    "image = image.resize(newsize)\n",
    "pic = asarray(image)\n",
    "# convert from integers to floats\n",
    "pic = pic.astype('float32')\n",
    "# normalize to the range 0-1\n",
    "\n",
    "\n",
    "pic=np.expand_dims(pic,axis=0)\n",
    "pic=preprocess_input(pic)\n",
    "pic=pic/255.0\n",
    "plt.imshow(pic.reshape([224,224,3]))\n",
    "plt.show() "
   ]
  },
  {
   "cell_type": "code",
   "execution_count": 269,
   "metadata": {},
   "outputs": [
    {
     "data": {
      "text/plain": [
       "(224, 224, 3)"
      ]
     },
     "execution_count": 269,
     "metadata": {},
     "output_type": "execute_result"
    }
   ],
   "source": [
    "'''from tensorflow.keras.applications.vgg19 import preprocess_input\n",
    "x=image.img_to_array(img)\n",
    "x = x.astype('float32') \n",
    "x /= 255.0 \n",
    "img_data=preprocess_input(x)\n",
    "x=np.expand_dims(x,axis=0)\n",
    "#print(img_data)\n",
    "img_data.shape'''"
   ]
  },
  {
   "cell_type": "code",
   "execution_count": null,
   "metadata": {},
   "outputs": [],
   "source": []
  },
  {
   "cell_type": "code",
   "execution_count": 18,
   "metadata": {},
   "outputs": [
    {
     "name": "stdout",
     "output_type": "stream",
     "text": [
      "[9.9999976e-01 2.4929278e-07]\n",
      "Person is having malaria and immediate medication should be done\n"
     ]
    }
   ],
   "source": [
    "a=max(model.predict(pic))\n",
    "print(a)\n",
    "if(a[0]>0 and a[0]<0.1):\n",
    "    print(\"The person is not infected\")\n",
    "elif(a[0]>0.1 and a[0]<0.4):\n",
    "    print(\"The person is having mild fever and should take precautions\")\n",
    "elif(a[0]>0.5 and a[0]<0.7):\n",
    "    print(\"Person can have malaria and should go for initial precautions and medicines\")\n",
    "else:\n",
    "    print(\"Person is having malaria and immediate medication should be done\")\n",
    "    "
   ]
  },
  {
   "cell_type": "code",
   "execution_count": 23,
   "metadata": {},
   "outputs": [
    {
     "name": "stderr",
     "output_type": "stream",
     "text": [
      "Clipping input data to the valid range for imshow with RGB data ([0..1] for floats or [0..255] for integers).\n"
     ]
    },
    {
     "data": {
      "image/png": "[encoded data removed]",
      "text/plain": [
       "<Figure size 432x288 with 1 Axes>"
      ]
     },
     "metadata": {
      "needs_background": "light"
     },
     "output_type": "display_data"
    }
   ],
   "source": [
    "image2 = Image.open('C:/Users/HIBA/OneDrive/Desktop/Dataset/Train/Parasite/C33P1thinF_IMG_20150619_121229a_cell_179.png')\n",
    "#C:/Users/raman/OneDrive/Desktop/Dataset/Train/Parasite/C33P1thinF_IMG_20150619_121229a_cell_179.png\n",
    "newsize = (224, 224) \n",
    "image2 = image2.resize(newsize)\n",
    "pic2 = asarray(image2)\n",
    "# convert from integers to floats\n",
    "pic2 = pic2.astype('float32')\n",
    "# normalize to the range 0-1\n",
    "\n",
    "\n",
    "pic2=np.expand_dims(pic2,axis=0)\n",
    "pic2=preprocess_input(pic2)\n",
    "pic2=pic2/255.0\n",
    "plt.imshow(pic2.reshape([224,224,3]))\n",
    "plt.show() "
   ]
  },
  {
   "cell_type": "code",
   "execution_count": 264,
   "metadata": {},
   "outputs": [
    {
     "data": {
      "text/plain": [
       "(1, 224, 224, 3)"
      ]
     },
     "execution_count": 264,
     "metadata": {},
     "output_type": "execute_result"
    }
   ],
   "source": [
    "'''from tensorflow.keras.applications.vgg19 import preprocess_input\n",
    "x2=image.img_to_array(imgi)\n",
    "x2=x2/255.0\n",
    "x2=np.expand_dims(x2,axis=0)\n",
    "img2_data=preprocess_input(x2)\n",
    "#print(img_data)\n",
    "img2_data.shape'''"
   ]
  },
  {
   "cell_type": "code",
   "execution_count": null,
   "metadata": {},
   "outputs": [],
   "source": []
  },
  {
   "cell_type": "code",
   "execution_count": 24,
   "metadata": {},
   "outputs": [
    {
     "data": {
      "text/plain": [
       "array([[0.4730084, 0.5269916]], dtype=float32)"
      ]
     },
     "execution_count": 24,
     "metadata": {},
     "output_type": "execute_result"
    }
   ],
   "source": [
    "model.predict(pic2)"
   ]
  },
  {
   "cell_type": "code",
   "execution_count": 27,
   "metadata": {},
   "outputs": [
    {
     "name": "stdout",
     "output_type": "stream",
     "text": [
      "[0.4730084 0.5269916]\n",
      "The person is having mild fever and should take precautions\n"
     ]
    }
   ],
   "source": [
    "a1=max(model.predict(pic2))\n",
    "print(a1)\n",
    "if(a1[0]>0 and a1[0]<0.1):\n",
    "    print(\"The person is not infected\")\n",
    "elif(a1[0]>0.1 and a1[0]<0.5):\n",
    "    print(\"The person is having mild fever and should take precautions\")\n",
    "elif(a1[0]>0.5 and a1[0]<0.7):\n",
    "    print(\"Person can have malaria and should go for initial precautions and medicines\")\n",
    "else:\n",
    "    print(\"Person is having malaria and immediate medication should be done\")\n",
    "    "
   ]
  },
  {
   "cell_type": "code",
   "execution_count": 23,
   "metadata": {},
   "outputs": [],
   "source": [
    "import tensorflow\n",
    "from PIL import Image\n",
    "res_model=tensorflow.keras.applications.ResNet50V2(include_top=False,weights=\"imagenet\",input_shape=IMAGE_SIZE+[3])"
   ]
  },
  {
   "cell_type": "code",
   "execution_count": null,
   "metadata": {},
   "outputs": [],
   "source": []
  },
  {
   "cell_type": "code",
   "execution_count": 24,
   "metadata": {},
   "outputs": [],
   "source": [
    "for layers in res_model.layers:\n",
    "    layers.trainable=False"
   ]
  },
  {
   "cell_type": "code",
   "execution_count": 25,
   "metadata": {},
   "outputs": [
    {
     "name": "stdout",
     "output_type": "stream",
     "text": [
      "Model: \"model_1\"\n",
      "__________________________________________________________________________________________________\n",
      "Layer (type)                    Output Shape         Param #     Connected to                     \n",
      "==================================================================================================\n",
      "input_3 (InputLayer)            [(None, 224, 224, 3) 0                                            \n",
      "__________________________________________________________________________________________________\n",
      "conv1_pad (ZeroPadding2D)       (None, 230, 230, 3)  0           input_3[0][0]                    \n",
      "__________________________________________________________________________________________________\n",
      "conv1_conv (Conv2D)             (None, 112, 112, 64) 9472        conv1_pad[0][0]                  \n",
      "__________________________________________________________________________________________________\n",
      "pool1_pad (ZeroPadding2D)       (None, 114, 114, 64) 0           conv1_conv[0][0]                 \n",
      "__________________________________________________________________________________________________\n",
      "pool1_pool (MaxPooling2D)       (None, 56, 56, 64)   0           pool1_pad[0][0]                  \n",
      "__________________________________________________________________________________________________\n",
      "conv2_block1_preact_bn (BatchNo (None, 56, 56, 64)   256         pool1_pool[0][0]                 \n",
      "__________________________________________________________________________________________________\n",
      "conv2_block1_preact_relu (Activ (None, 56, 56, 64)   0           conv2_block1_preact_bn[0][0]     \n",
      "__________________________________________________________________________________________________\n",
      "conv2_block1_1_conv (Conv2D)    (None, 56, 56, 64)   4096        conv2_block1_preact_relu[0][0]   \n",
      "__________________________________________________________________________________________________\n",
      "conv2_block1_1_bn (BatchNormali (None, 56, 56, 64)   256         conv2_block1_1_conv[0][0]        \n",
      "__________________________________________________________________________________________________\n",
      "conv2_block1_1_relu (Activation (None, 56, 56, 64)   0           conv2_block1_1_bn[0][0]          \n",
      "__________________________________________________________________________________________________\n",
      "conv2_block1_2_pad (ZeroPadding (None, 58, 58, 64)   0           conv2_block1_1_relu[0][0]        \n",
      "__________________________________________________________________________________________________\n",
      "conv2_block1_2_conv (Conv2D)    (None, 56, 56, 64)   36864       conv2_block1_2_pad[0][0]         \n",
      "__________________________________________________________________________________________________\n",
      "conv2_block1_2_bn (BatchNormali (None, 56, 56, 64)   256         conv2_block1_2_conv[0][0]        \n",
      "__________________________________________________________________________________________________\n",
      "conv2_block1_2_relu (Activation (None, 56, 56, 64)   0           conv2_block1_2_bn[0][0]          \n",
      "__________________________________________________________________________________________________\n",
      "conv2_block1_0_conv (Conv2D)    (None, 56, 56, 256)  16640       conv2_block1_preact_relu[0][0]   \n",
      "__________________________________________________________________________________________________\n",
      "conv2_block1_3_conv (Conv2D)    (None, 56, 56, 256)  16640       conv2_block1_2_relu[0][0]        \n",
      "__________________________________________________________________________________________________\n",
      "conv2_block1_out (Add)          (None, 56, 56, 256)  0           conv2_block1_0_conv[0][0]        \n",
      "                                                                 conv2_block1_3_conv[0][0]        \n",
      "__________________________________________________________________________________________________\n",
      "conv2_block2_preact_bn (BatchNo (None, 56, 56, 256)  1024        conv2_block1_out[0][0]           \n",
      "__________________________________________________________________________________________________\n",
      "conv2_block2_preact_relu (Activ (None, 56, 56, 256)  0           conv2_block2_preact_bn[0][0]     \n",
      "__________________________________________________________________________________________________\n",
      "conv2_block2_1_conv (Conv2D)    (None, 56, 56, 64)   16384       conv2_block2_preact_relu[0][0]   \n",
      "__________________________________________________________________________________________________\n",
      "conv2_block2_1_bn (BatchNormali (None, 56, 56, 64)   256         conv2_block2_1_conv[0][0]        \n",
      "__________________________________________________________________________________________________\n",
      "conv2_block2_1_relu (Activation (None, 56, 56, 64)   0           conv2_block2_1_bn[0][0]          \n",
      "__________________________________________________________________________________________________\n",
      "conv2_block2_2_pad (ZeroPadding (None, 58, 58, 64)   0           conv2_block2_1_relu[0][0]        \n",
      "__________________________________________________________________________________________________\n",
      "conv2_block2_2_conv (Conv2D)    (None, 56, 56, 64)   36864       conv2_block2_2_pad[0][0]         \n",
      "__________________________________________________________________________________________________\n",
      "conv2_block2_2_bn (BatchNormali (None, 56, 56, 64)   256         conv2_block2_2_conv[0][0]        \n",
      "__________________________________________________________________________________________________\n",
      "conv2_block2_2_relu (Activation (None, 56, 56, 64)   0           conv2_block2_2_bn[0][0]          \n",
      "__________________________________________________________________________________________________\n",
      "conv2_block2_3_conv (Conv2D)    (None, 56, 56, 256)  16640       conv2_block2_2_relu[0][0]        \n",
      "__________________________________________________________________________________________________\n",
      "conv2_block2_out (Add)          (None, 56, 56, 256)  0           conv2_block1_out[0][0]           \n",
      "                                                                 conv2_block2_3_conv[0][0]        \n",
      "__________________________________________________________________________________________________\n",
      "conv2_block3_preact_bn (BatchNo (None, 56, 56, 256)  1024        conv2_block2_out[0][0]           \n",
      "__________________________________________________________________________________________________\n",
      "conv2_block3_preact_relu (Activ (None, 56, 56, 256)  0           conv2_block3_preact_bn[0][0]     \n",
      "__________________________________________________________________________________________________\n",
      "conv2_block3_1_conv (Conv2D)    (None, 56, 56, 64)   16384       conv2_block3_preact_relu[0][0]   \n",
      "__________________________________________________________________________________________________\n",
      "conv2_block3_1_bn (BatchNormali (None, 56, 56, 64)   256         conv2_block3_1_conv[0][0]        \n",
      "__________________________________________________________________________________________________\n",
      "conv2_block3_1_relu (Activation (None, 56, 56, 64)   0           conv2_block3_1_bn[0][0]          \n",
      "__________________________________________________________________________________________________\n",
      "conv2_block3_2_pad (ZeroPadding (None, 58, 58, 64)   0           conv2_block3_1_relu[0][0]        \n",
      "__________________________________________________________________________________________________\n",
      "conv2_block3_2_conv (Conv2D)    (None, 28, 28, 64)   36864       conv2_block3_2_pad[0][0]         \n",
      "__________________________________________________________________________________________________\n",
      "conv2_block3_2_bn (BatchNormali (None, 28, 28, 64)   256         conv2_block3_2_conv[0][0]        \n",
      "__________________________________________________________________________________________________\n",
      "conv2_block3_2_relu (Activation (None, 28, 28, 64)   0           conv2_block3_2_bn[0][0]          \n",
      "__________________________________________________________________________________________________\n",
      "max_pooling2d_3 (MaxPooling2D)  (None, 28, 28, 256)  0           conv2_block2_out[0][0]           \n",
      "__________________________________________________________________________________________________\n",
      "conv2_block3_3_conv (Conv2D)    (None, 28, 28, 256)  16640       conv2_block3_2_relu[0][0]        \n",
      "__________________________________________________________________________________________________\n",
      "conv2_block3_out (Add)          (None, 28, 28, 256)  0           max_pooling2d_3[0][0]            \n",
      "                                                                 conv2_block3_3_conv[0][0]        \n",
      "__________________________________________________________________________________________________\n",
      "conv3_block1_preact_bn (BatchNo (None, 28, 28, 256)  1024        conv2_block3_out[0][0]           \n",
      "__________________________________________________________________________________________________\n",
      "conv3_block1_preact_relu (Activ (None, 28, 28, 256)  0           conv3_block1_preact_bn[0][0]     \n",
      "__________________________________________________________________________________________________\n",
      "conv3_block1_1_conv (Conv2D)    (None, 28, 28, 128)  32768       conv3_block1_preact_relu[0][0]   \n",
      "__________________________________________________________________________________________________\n",
      "conv3_block1_1_bn (BatchNormali (None, 28, 28, 128)  512         conv3_block1_1_conv[0][0]        \n",
      "__________________________________________________________________________________________________\n",
      "conv3_block1_1_relu (Activation (None, 28, 28, 128)  0           conv3_block1_1_bn[0][0]          \n",
      "__________________________________________________________________________________________________\n",
      "conv3_block1_2_pad (ZeroPadding (None, 30, 30, 128)  0           conv3_block1_1_relu[0][0]        \n",
      "__________________________________________________________________________________________________\n",
      "conv3_block1_2_conv (Conv2D)    (None, 28, 28, 128)  147456      conv3_block1_2_pad[0][0]         \n",
      "__________________________________________________________________________________________________\n",
      "conv3_block1_2_bn (BatchNormali (None, 28, 28, 128)  512         conv3_block1_2_conv[0][0]        \n",
      "__________________________________________________________________________________________________\n",
      "conv3_block1_2_relu (Activation (None, 28, 28, 128)  0           conv3_block1_2_bn[0][0]          \n",
      "__________________________________________________________________________________________________\n",
      "conv3_block1_0_conv (Conv2D)    (None, 28, 28, 512)  131584      conv3_block1_preact_relu[0][0]   \n",
      "__________________________________________________________________________________________________\n",
      "conv3_block1_3_conv (Conv2D)    (None, 28, 28, 512)  66048       conv3_block1_2_relu[0][0]        \n",
      "__________________________________________________________________________________________________\n",
      "conv3_block1_out (Add)          (None, 28, 28, 512)  0           conv3_block1_0_conv[0][0]        \n",
      "                                                                 conv3_block1_3_conv[0][0]        \n",
      "__________________________________________________________________________________________________\n",
      "conv3_block2_preact_bn (BatchNo (None, 28, 28, 512)  2048        conv3_block1_out[0][0]           \n",
      "__________________________________________________________________________________________________\n",
      "conv3_block2_preact_relu (Activ (None, 28, 28, 512)  0           conv3_block2_preact_bn[0][0]     \n",
      "__________________________________________________________________________________________________\n",
      "conv3_block2_1_conv (Conv2D)    (None, 28, 28, 128)  65536       conv3_block2_preact_relu[0][0]   \n",
      "__________________________________________________________________________________________________\n",
      "conv3_block2_1_bn (BatchNormali (None, 28, 28, 128)  512         conv3_block2_1_conv[0][0]        \n",
      "__________________________________________________________________________________________________\n",
      "conv3_block2_1_relu (Activation (None, 28, 28, 128)  0           conv3_block2_1_bn[0][0]          \n",
      "__________________________________________________________________________________________________\n",
      "conv3_block2_2_pad (ZeroPadding (None, 30, 30, 128)  0           conv3_block2_1_relu[0][0]        \n",
      "__________________________________________________________________________________________________\n",
      "conv3_block2_2_conv (Conv2D)    (None, 28, 28, 128)  147456      conv3_block2_2_pad[0][0]         \n",
      "__________________________________________________________________________________________________\n",
      "conv3_block2_2_bn (BatchNormali (None, 28, 28, 128)  512         conv3_block2_2_conv[0][0]        \n",
      "__________________________________________________________________________________________________\n",
      "conv3_block2_2_relu (Activation (None, 28, 28, 128)  0           conv3_block2_2_bn[0][0]          \n",
      "__________________________________________________________________________________________________\n",
      "conv3_block2_3_conv (Conv2D)    (None, 28, 28, 512)  66048       conv3_block2_2_relu[0][0]        \n",
      "__________________________________________________________________________________________________\n",
      "conv3_block2_out (Add)          (None, 28, 28, 512)  0           conv3_block1_out[0][0]           \n",
      "                                                                 conv3_block2_3_conv[0][0]        \n",
      "__________________________________________________________________________________________________\n",
      "conv3_block3_preact_bn (BatchNo (None, 28, 28, 512)  2048        conv3_block2_out[0][0]           \n",
      "__________________________________________________________________________________________________\n",
      "conv3_block3_preact_relu (Activ (None, 28, 28, 512)  0           conv3_block3_preact_bn[0][0]     \n",
      "__________________________________________________________________________________________________\n",
      "conv3_block3_1_conv (Conv2D)    (None, 28, 28, 128)  65536       conv3_block3_preact_relu[0][0]   \n",
      "__________________________________________________________________________________________________\n",
      "conv3_block3_1_bn (BatchNormali (None, 28, 28, 128)  512         conv3_block3_1_conv[0][0]        \n",
      "__________________________________________________________________________________________________\n",
      "conv3_block3_1_relu (Activation (None, 28, 28, 128)  0           conv3_block3_1_bn[0][0]          \n",
      "__________________________________________________________________________________________________\n",
      "conv3_block3_2_pad (ZeroPadding (None, 30, 30, 128)  0           conv3_block3_1_relu[0][0]        \n",
      "__________________________________________________________________________________________________\n",
      "conv3_block3_2_conv (Conv2D)    (None, 28, 28, 128)  147456      conv3_block3_2_pad[0][0]         \n",
      "__________________________________________________________________________________________________\n",
      "conv3_block3_2_bn (BatchNormali (None, 28, 28, 128)  512         conv3_block3_2_conv[0][0]        \n",
      "__________________________________________________________________________________________________\n",
      "conv3_block3_2_relu (Activation (None, 28, 28, 128)  0           conv3_block3_2_bn[0][0]          \n",
      "__________________________________________________________________________________________________\n",
      "conv3_block3_3_conv (Conv2D)    (None, 28, 28, 512)  66048       conv3_block3_2_relu[0][0]        \n",
      "__________________________________________________________________________________________________\n",
      "conv3_block3_out (Add)          (None, 28, 28, 512)  0           conv3_block2_out[0][0]           \n",
      "                                                                 conv3_block3_3_conv[0][0]        \n",
      "__________________________________________________________________________________________________\n",
      "conv3_block4_preact_bn (BatchNo (None, 28, 28, 512)  2048        conv3_block3_out[0][0]           \n",
      "__________________________________________________________________________________________________\n",
      "conv3_block4_preact_relu (Activ (None, 28, 28, 512)  0           conv3_block4_preact_bn[0][0]     \n",
      "__________________________________________________________________________________________________\n",
      "conv3_block4_1_conv (Conv2D)    (None, 28, 28, 128)  65536       conv3_block4_preact_relu[0][0]   \n",
      "__________________________________________________________________________________________________\n",
      "conv3_block4_1_bn (BatchNormali (None, 28, 28, 128)  512         conv3_block4_1_conv[0][0]        \n",
      "__________________________________________________________________________________________________\n",
      "conv3_block4_1_relu (Activation (None, 28, 28, 128)  0           conv3_block4_1_bn[0][0]          \n",
      "__________________________________________________________________________________________________\n",
      "conv3_block4_2_pad (ZeroPadding (None, 30, 30, 128)  0           conv3_block4_1_relu[0][0]        \n",
      "__________________________________________________________________________________________________\n",
      "conv3_block4_2_conv (Conv2D)    (None, 14, 14, 128)  147456      conv3_block4_2_pad[0][0]         \n",
      "__________________________________________________________________________________________________\n",
      "conv3_block4_2_bn (BatchNormali (None, 14, 14, 128)  512         conv3_block4_2_conv[0][0]        \n",
      "__________________________________________________________________________________________________\n",
      "conv3_block4_2_relu (Activation (None, 14, 14, 128)  0           conv3_block4_2_bn[0][0]          \n",
      "__________________________________________________________________________________________________\n",
      "max_pooling2d_4 (MaxPooling2D)  (None, 14, 14, 512)  0           conv3_block3_out[0][0]           \n",
      "__________________________________________________________________________________________________\n",
      "conv3_block4_3_conv (Conv2D)    (None, 14, 14, 512)  66048       conv3_block4_2_relu[0][0]        \n",
      "__________________________________________________________________________________________________\n",
      "conv3_block4_out (Add)          (None, 14, 14, 512)  0           max_pooling2d_4[0][0]            \n",
      "                                                                 conv3_block4_3_conv[0][0]        \n",
      "__________________________________________________________________________________________________\n",
      "conv4_block1_preact_bn (BatchNo (None, 14, 14, 512)  2048        conv3_block4_out[0][0]           \n",
      "__________________________________________________________________________________________________\n",
      "conv4_block1_preact_relu (Activ (None, 14, 14, 512)  0           conv4_block1_preact_bn[0][0]     \n",
      "__________________________________________________________________________________________________\n",
      "conv4_block1_1_conv (Conv2D)    (None, 14, 14, 256)  131072      conv4_block1_preact_relu[0][0]   \n",
      "__________________________________________________________________________________________________\n",
      "conv4_block1_1_bn (BatchNormali (None, 14, 14, 256)  1024        conv4_block1_1_conv[0][0]        \n",
      "__________________________________________________________________________________________________\n",
      "conv4_block1_1_relu (Activation (None, 14, 14, 256)  0           conv4_block1_1_bn[0][0]          \n",
      "__________________________________________________________________________________________________\n",
      "conv4_block1_2_pad (ZeroPadding (None, 16, 16, 256)  0           conv4_block1_1_relu[0][0]        \n",
      "__________________________________________________________________________________________________\n",
      "conv4_block1_2_conv (Conv2D)    (None, 14, 14, 256)  589824      conv4_block1_2_pad[0][0]         \n",
      "__________________________________________________________________________________________________\n",
      "conv4_block1_2_bn (BatchNormali (None, 14, 14, 256)  1024        conv4_block1_2_conv[0][0]        \n",
      "__________________________________________________________________________________________________\n",
      "conv4_block1_2_relu (Activation (None, 14, 14, 256)  0           conv4_block1_2_bn[0][0]          \n",
      "__________________________________________________________________________________________________\n",
      "conv4_block1_0_conv (Conv2D)    (None, 14, 14, 1024) 525312      conv4_block1_preact_relu[0][0]   \n",
      "__________________________________________________________________________________________________\n",
      "conv4_block1_3_conv (Conv2D)    (None, 14, 14, 1024) 263168      conv4_block1_2_relu[0][0]        \n",
      "__________________________________________________________________________________________________\n",
      "conv4_block1_out (Add)          (None, 14, 14, 1024) 0           conv4_block1_0_conv[0][0]        \n",
      "                                                                 conv4_block1_3_conv[0][0]        \n",
      "__________________________________________________________________________________________________\n",
      "conv4_block2_preact_bn (BatchNo (None, 14, 14, 1024) 4096        conv4_block1_out[0][0]           \n",
      "__________________________________________________________________________________________________\n",
      "conv4_block2_preact_relu (Activ (None, 14, 14, 1024) 0           conv4_block2_preact_bn[0][0]     \n",
      "__________________________________________________________________________________________________\n",
      "conv4_block2_1_conv (Conv2D)    (None, 14, 14, 256)  262144      conv4_block2_preact_relu[0][0]   \n",
      "__________________________________________________________________________________________________\n",
      "conv4_block2_1_bn (BatchNormali (None, 14, 14, 256)  1024        conv4_block2_1_conv[0][0]        \n",
      "__________________________________________________________________________________________________\n",
      "conv4_block2_1_relu (Activation (None, 14, 14, 256)  0           conv4_block2_1_bn[0][0]          \n",
      "__________________________________________________________________________________________________\n",
      "conv4_block2_2_pad (ZeroPadding (None, 16, 16, 256)  0           conv4_block2_1_relu[0][0]        \n",
      "__________________________________________________________________________________________________\n",
      "conv4_block2_2_conv (Conv2D)    (None, 14, 14, 256)  589824      conv4_block2_2_pad[0][0]         \n",
      "__________________________________________________________________________________________________\n",
      "conv4_block2_2_bn (BatchNormali (None, 14, 14, 256)  1024        conv4_block2_2_conv[0][0]        \n",
      "__________________________________________________________________________________________________\n",
      "conv4_block2_2_relu (Activation (None, 14, 14, 256)  0           conv4_block2_2_bn[0][0]          \n",
      "__________________________________________________________________________________________________\n",
      "conv4_block2_3_conv (Conv2D)    (None, 14, 14, 1024) 263168      conv4_block2_2_relu[0][0]        \n",
      "__________________________________________________________________________________________________\n",
      "conv4_block2_out (Add)          (None, 14, 14, 1024) 0           conv4_block1_out[0][0]           \n",
      "                                                                 conv4_block2_3_conv[0][0]        \n",
      "__________________________________________________________________________________________________\n",
      "conv4_block3_preact_bn (BatchNo (None, 14, 14, 1024) 4096        conv4_block2_out[0][0]           \n",
      "__________________________________________________________________________________________________\n",
      "conv4_block3_preact_relu (Activ (None, 14, 14, 1024) 0           conv4_block3_preact_bn[0][0]     \n",
      "__________________________________________________________________________________________________\n",
      "conv4_block3_1_conv (Conv2D)    (None, 14, 14, 256)  262144      conv4_block3_preact_relu[0][0]   \n",
      "__________________________________________________________________________________________________\n",
      "conv4_block3_1_bn (BatchNormali (None, 14, 14, 256)  1024        conv4_block3_1_conv[0][0]        \n",
      "__________________________________________________________________________________________________\n",
      "conv4_block3_1_relu (Activation (None, 14, 14, 256)  0           conv4_block3_1_bn[0][0]          \n",
      "__________________________________________________________________________________________________\n",
      "conv4_block3_2_pad (ZeroPadding (None, 16, 16, 256)  0           conv4_block3_1_relu[0][0]        \n",
      "__________________________________________________________________________________________________\n",
      "conv4_block3_2_conv (Conv2D)    (None, 14, 14, 256)  589824      conv4_block3_2_pad[0][0]         \n",
      "__________________________________________________________________________________________________\n",
      "conv4_block3_2_bn (BatchNormali (None, 14, 14, 256)  1024        conv4_block3_2_conv[0][0]        \n",
      "__________________________________________________________________________________________________\n",
      "conv4_block3_2_relu (Activation (None, 14, 14, 256)  0           conv4_block3_2_bn[0][0]          \n",
      "__________________________________________________________________________________________________\n",
      "conv4_block3_3_conv (Conv2D)    (None, 14, 14, 1024) 263168      conv4_block3_2_relu[0][0]        \n",
      "__________________________________________________________________________________________________\n",
      "conv4_block3_out (Add)          (None, 14, 14, 1024) 0           conv4_block2_out[0][0]           \n",
      "                                                                 conv4_block3_3_conv[0][0]        \n",
      "__________________________________________________________________________________________________\n",
      "conv4_block4_preact_bn (BatchNo (None, 14, 14, 1024) 4096        conv4_block3_out[0][0]           \n",
      "__________________________________________________________________________________________________\n",
      "conv4_block4_preact_relu (Activ (None, 14, 14, 1024) 0           conv4_block4_preact_bn[0][0]     \n",
      "__________________________________________________________________________________________________\n",
      "conv4_block4_1_conv (Conv2D)    (None, 14, 14, 256)  262144      conv4_block4_preact_relu[0][0]   \n",
      "__________________________________________________________________________________________________\n",
      "conv4_block4_1_bn (BatchNormali (None, 14, 14, 256)  1024        conv4_block4_1_conv[0][0]        \n",
      "__________________________________________________________________________________________________\n",
      "conv4_block4_1_relu (Activation (None, 14, 14, 256)  0           conv4_block4_1_bn[0][0]          \n",
      "__________________________________________________________________________________________________\n",
      "conv4_block4_2_pad (ZeroPadding (None, 16, 16, 256)  0           conv4_block4_1_relu[0][0]        \n",
      "__________________________________________________________________________________________________\n",
      "conv4_block4_2_conv (Conv2D)    (None, 14, 14, 256)  589824      conv4_block4_2_pad[0][0]         \n",
      "__________________________________________________________________________________________________\n",
      "conv4_block4_2_bn (BatchNormali (None, 14, 14, 256)  1024        conv4_block4_2_conv[0][0]        \n",
      "__________________________________________________________________________________________________\n",
      "conv4_block4_2_relu (Activation (None, 14, 14, 256)  0           conv4_block4_2_bn[0][0]          \n",
      "__________________________________________________________________________________________________\n",
      "conv4_block4_3_conv (Conv2D)    (None, 14, 14, 1024) 263168      conv4_block4_2_relu[0][0]        \n",
      "__________________________________________________________________________________________________\n",
      "conv4_block4_out (Add)          (None, 14, 14, 1024) 0           conv4_block3_out[0][0]           \n",
      "                                                                 conv4_block4_3_conv[0][0]        \n",
      "__________________________________________________________________________________________________\n",
      "conv4_block5_preact_bn (BatchNo (None, 14, 14, 1024) 4096        conv4_block4_out[0][0]           \n",
      "__________________________________________________________________________________________________\n",
      "conv4_block5_preact_relu (Activ (None, 14, 14, 1024) 0           conv4_block5_preact_bn[0][0]     \n",
      "__________________________________________________________________________________________________\n",
      "conv4_block5_1_conv (Conv2D)    (None, 14, 14, 256)  262144      conv4_block5_preact_relu[0][0]   \n",
      "__________________________________________________________________________________________________\n",
      "conv4_block5_1_bn (BatchNormali (None, 14, 14, 256)  1024        conv4_block5_1_conv[0][0]        \n",
      "__________________________________________________________________________________________________\n",
      "conv4_block5_1_relu (Activation (None, 14, 14, 256)  0           conv4_block5_1_bn[0][0]          \n",
      "__________________________________________________________________________________________________\n",
      "conv4_block5_2_pad (ZeroPadding (None, 16, 16, 256)  0           conv4_block5_1_relu[0][0]        \n",
      "__________________________________________________________________________________________________\n",
      "conv4_block5_2_conv (Conv2D)    (None, 14, 14, 256)  589824      conv4_block5_2_pad[0][0]         \n",
      "__________________________________________________________________________________________________\n",
      "conv4_block5_2_bn (BatchNormali (None, 14, 14, 256)  1024        conv4_block5_2_conv[0][0]        \n",
      "__________________________________________________________________________________________________\n",
      "conv4_block5_2_relu (Activation (None, 14, 14, 256)  0           conv4_block5_2_bn[0][0]          \n",
      "__________________________________________________________________________________________________\n",
      "conv4_block5_3_conv (Conv2D)    (None, 14, 14, 1024) 263168      conv4_block5_2_relu[0][0]        \n",
      "__________________________________________________________________________________________________\n",
      "conv4_block5_out (Add)          (None, 14, 14, 1024) 0           conv4_block4_out[0][0]           \n",
      "                                                                 conv4_block5_3_conv[0][0]        \n",
      "__________________________________________________________________________________________________\n",
      "conv4_block6_preact_bn (BatchNo (None, 14, 14, 1024) 4096        conv4_block5_out[0][0]           \n",
      "__________________________________________________________________________________________________\n",
      "conv4_block6_preact_relu (Activ (None, 14, 14, 1024) 0           conv4_block6_preact_bn[0][0]     \n",
      "__________________________________________________________________________________________________\n",
      "conv4_block6_1_conv (Conv2D)    (None, 14, 14, 256)  262144      conv4_block6_preact_relu[0][0]   \n",
      "__________________________________________________________________________________________________\n",
      "conv4_block6_1_bn (BatchNormali (None, 14, 14, 256)  1024        conv4_block6_1_conv[0][0]        \n",
      "__________________________________________________________________________________________________\n",
      "conv4_block6_1_relu (Activation (None, 14, 14, 256)  0           conv4_block6_1_bn[0][0]          \n",
      "__________________________________________________________________________________________________\n",
      "conv4_block6_2_pad (ZeroPadding (None, 16, 16, 256)  0           conv4_block6_1_relu[0][0]        \n",
      "__________________________________________________________________________________________________\n",
      "conv4_block6_2_conv (Conv2D)    (None, 7, 7, 256)    589824      conv4_block6_2_pad[0][0]         \n",
      "__________________________________________________________________________________________________\n",
      "conv4_block6_2_bn (BatchNormali (None, 7, 7, 256)    1024        conv4_block6_2_conv[0][0]        \n",
      "__________________________________________________________________________________________________\n",
      "conv4_block6_2_relu (Activation (None, 7, 7, 256)    0           conv4_block6_2_bn[0][0]          \n",
      "__________________________________________________________________________________________________\n",
      "max_pooling2d_5 (MaxPooling2D)  (None, 7, 7, 1024)   0           conv4_block5_out[0][0]           \n",
      "__________________________________________________________________________________________________\n",
      "conv4_block6_3_conv (Conv2D)    (None, 7, 7, 1024)   263168      conv4_block6_2_relu[0][0]        \n",
      "__________________________________________________________________________________________________\n",
      "conv4_block6_out (Add)          (None, 7, 7, 1024)   0           max_pooling2d_5[0][0]            \n",
      "                                                                 conv4_block6_3_conv[0][0]        \n",
      "__________________________________________________________________________________________________\n",
      "conv5_block1_preact_bn (BatchNo (None, 7, 7, 1024)   4096        conv4_block6_out[0][0]           \n",
      "__________________________________________________________________________________________________\n",
      "conv5_block1_preact_relu (Activ (None, 7, 7, 1024)   0           conv5_block1_preact_bn[0][0]     \n",
      "__________________________________________________________________________________________________\n",
      "conv5_block1_1_conv (Conv2D)    (None, 7, 7, 512)    524288      conv5_block1_preact_relu[0][0]   \n",
      "__________________________________________________________________________________________________\n",
      "conv5_block1_1_bn (BatchNormali (None, 7, 7, 512)    2048        conv5_block1_1_conv[0][0]        \n",
      "__________________________________________________________________________________________________\n",
      "conv5_block1_1_relu (Activation (None, 7, 7, 512)    0           conv5_block1_1_bn[0][0]          \n",
      "__________________________________________________________________________________________________\n",
      "conv5_block1_2_pad (ZeroPadding (None, 9, 9, 512)    0           conv5_block1_1_relu[0][0]        \n",
      "__________________________________________________________________________________________________\n",
      "conv5_block1_2_conv (Conv2D)    (None, 7, 7, 512)    2359296     conv5_block1_2_pad[0][0]         \n",
      "__________________________________________________________________________________________________\n",
      "conv5_block1_2_bn (BatchNormali (None, 7, 7, 512)    2048        conv5_block1_2_conv[0][0]        \n",
      "__________________________________________________________________________________________________\n",
      "conv5_block1_2_relu (Activation (None, 7, 7, 512)    0           conv5_block1_2_bn[0][0]          \n",
      "__________________________________________________________________________________________________\n",
      "conv5_block1_0_conv (Conv2D)    (None, 7, 7, 2048)   2099200     conv5_block1_preact_relu[0][0]   \n",
      "__________________________________________________________________________________________________\n",
      "conv5_block1_3_conv (Conv2D)    (None, 7, 7, 2048)   1050624     conv5_block1_2_relu[0][0]        \n",
      "__________________________________________________________________________________________________\n",
      "conv5_block1_out (Add)          (None, 7, 7, 2048)   0           conv5_block1_0_conv[0][0]        \n",
      "                                                                 conv5_block1_3_conv[0][0]        \n",
      "__________________________________________________________________________________________________\n",
      "conv5_block2_preact_bn (BatchNo (None, 7, 7, 2048)   8192        conv5_block1_out[0][0]           \n",
      "__________________________________________________________________________________________________\n",
      "conv5_block2_preact_relu (Activ (None, 7, 7, 2048)   0           conv5_block2_preact_bn[0][0]     \n",
      "__________________________________________________________________________________________________\n",
      "conv5_block2_1_conv (Conv2D)    (None, 7, 7, 512)    1048576     conv5_block2_preact_relu[0][0]   \n",
      "__________________________________________________________________________________________________\n",
      "conv5_block2_1_bn (BatchNormali (None, 7, 7, 512)    2048        conv5_block2_1_conv[0][0]        \n",
      "__________________________________________________________________________________________________\n",
      "conv5_block2_1_relu (Activation (None, 7, 7, 512)    0           conv5_block2_1_bn[0][0]          \n",
      "__________________________________________________________________________________________________\n",
      "conv5_block2_2_pad (ZeroPadding (None, 9, 9, 512)    0           conv5_block2_1_relu[0][0]        \n",
      "__________________________________________________________________________________________________\n",
      "conv5_block2_2_conv (Conv2D)    (None, 7, 7, 512)    2359296     conv5_block2_2_pad[0][0]         \n",
      "__________________________________________________________________________________________________\n",
      "conv5_block2_2_bn (BatchNormali (None, 7, 7, 512)    2048        conv5_block2_2_conv[0][0]        \n",
      "__________________________________________________________________________________________________\n",
      "conv5_block2_2_relu (Activation (None, 7, 7, 512)    0           conv5_block2_2_bn[0][0]          \n",
      "__________________________________________________________________________________________________\n",
      "conv5_block2_3_conv (Conv2D)    (None, 7, 7, 2048)   1050624     conv5_block2_2_relu[0][0]        \n",
      "__________________________________________________________________________________________________\n",
      "conv5_block2_out (Add)          (None, 7, 7, 2048)   0           conv5_block1_out[0][0]           \n",
      "                                                                 conv5_block2_3_conv[0][0]        \n",
      "__________________________________________________________________________________________________\n",
      "conv5_block3_preact_bn (BatchNo (None, 7, 7, 2048)   8192        conv5_block2_out[0][0]           \n",
      "__________________________________________________________________________________________________\n",
      "conv5_block3_preact_relu (Activ (None, 7, 7, 2048)   0           conv5_block3_preact_bn[0][0]     \n",
      "__________________________________________________________________________________________________\n",
      "conv5_block3_1_conv (Conv2D)    (None, 7, 7, 512)    1048576     conv5_block3_preact_relu[0][0]   \n",
      "__________________________________________________________________________________________________\n",
      "conv5_block3_1_bn (BatchNormali (None, 7, 7, 512)    2048        conv5_block3_1_conv[0][0]        \n",
      "__________________________________________________________________________________________________\n",
      "conv5_block3_1_relu (Activation (None, 7, 7, 512)    0           conv5_block3_1_bn[0][0]          \n",
      "__________________________________________________________________________________________________\n",
      "conv5_block3_2_pad (ZeroPadding (None, 9, 9, 512)    0           conv5_block3_1_relu[0][0]        \n",
      "__________________________________________________________________________________________________\n",
      "conv5_block3_2_conv (Conv2D)    (None, 7, 7, 512)    2359296     conv5_block3_2_pad[0][0]         \n",
      "__________________________________________________________________________________________________\n",
      "conv5_block3_2_bn (BatchNormali (None, 7, 7, 512)    2048        conv5_block3_2_conv[0][0]        \n",
      "__________________________________________________________________________________________________\n",
      "conv5_block3_2_relu (Activation (None, 7, 7, 512)    0           conv5_block3_2_bn[0][0]          \n",
      "__________________________________________________________________________________________________\n",
      "conv5_block3_3_conv (Conv2D)    (None, 7, 7, 2048)   1050624     conv5_block3_2_relu[0][0]        \n",
      "__________________________________________________________________________________________________\n",
      "conv5_block3_out (Add)          (None, 7, 7, 2048)   0           conv5_block2_out[0][0]           \n",
      "                                                                 conv5_block3_3_conv[0][0]        \n",
      "__________________________________________________________________________________________________\n",
      "post_bn (BatchNormalization)    (None, 7, 7, 2048)   8192        conv5_block3_out[0][0]           \n",
      "__________________________________________________________________________________________________\n",
      "post_relu (Activation)          (None, 7, 7, 2048)   0           post_bn[0][0]                    \n",
      "__________________________________________________________________________________________________\n",
      "flatten_2 (Flatten)             (None, 100352)       0           post_relu[0][0]                  \n",
      "__________________________________________________________________________________________________\n",
      "dense_1 (Dense)                 (None, 2)            200706      flatten_2[0][0]                  \n",
      "==================================================================================================\n",
      "Total params: 23,765,506\n",
      "Trainable params: 200,706\n",
      "Non-trainable params: 23,564,800\n",
      "__________________________________________________________________________________________________\n"
     ]
    }
   ],
   "source": [
    "x=Flatten()(res_model.output)\n",
    "predict=Dense(len(folder),activation='softmax')(x)\n",
    "RES52=Model(inputs=res_model.input,outputs=predict)\n",
    "RES52.summary()"
   ]
  },
  {
   "cell_type": "code",
   "execution_count": 26,
   "metadata": {},
   "outputs": [],
   "source": [
    "RES52.compile(\n",
    "       loss='categorical_crossentropy',\n",
    "       optimizer='adam',\n",
    "       metrics=['accuracy'])"
   ]
  },
  {
   "cell_type": "code",
   "execution_count": 27,
   "metadata": {},
   "outputs": [],
   "source": [
    "from tensorflow.keras.preprocessing.image import ImageDataGenerator\n",
    "train_datagen=ImageDataGenerator(rescale=1./255,\n",
    "                                shear_range=0.1,\n",
    "                                zoom_range=0.2,\n",
    "                                horizontal_flip=True)"
   ]
  },
  {
   "cell_type": "code",
   "execution_count": 28,
   "metadata": {},
   "outputs": [],
   "source": [
    "test_datagen=ImageDataGenerator(rescale=1./255)"
   ]
  },
  {
   "cell_type": "code",
   "execution_count": 29,
   "metadata": {},
   "outputs": [
    {
     "name": "stderr",
     "output_type": "stream",
     "text": [
      "C:\\Users\\HIBA\\anaconda3\\lib\\site-packages\\tensorflow\\python\\keras\\engine\\training.py:1844: UserWarning: `Model.fit_generator` is deprecated and will be removed in a future version. Please use `Model.fit`, which supports generators.\n",
      "  warnings.warn('`Model.fit_generator` is deprecated and '\n"
     ]
    },
    {
     "name": "stdout",
     "output_type": "stream",
     "text": [
      "Epoch 1/10\n",
      "13/13 [==============================] - 34s 2s/step - loss: 7.6202 - accuracy: 0.5992 - val_loss: 1.8655 - val_accuracy: 0.9104\n",
      "Epoch 2/10\n",
      "13/13 [==============================] - 34s 3s/step - loss: 1.7959 - accuracy: 0.9043 - val_loss: 0.7666 - val_accuracy: 0.9328\n",
      "Epoch 3/10\n",
      "13/13 [==============================] - 32s 3s/step - loss: 0.9571 - accuracy: 0.9405 - val_loss: 0.6226 - val_accuracy: 0.9403\n",
      "Epoch 4/10\n",
      "13/13 [==============================] - 32s 3s/step - loss: 0.7304 - accuracy: 0.9500 - val_loss: 0.9898 - val_accuracy: 0.9328\n",
      "Epoch 5/10\n",
      "13/13 [==============================] - 32s 3s/step - loss: 0.3936 - accuracy: 0.9666 - val_loss: 0.1598 - val_accuracy: 0.9701\n",
      "Epoch 6/10\n",
      "13/13 [==============================] - 32s 3s/step - loss: 0.0818 - accuracy: 0.9861 - val_loss: 0.0809 - val_accuracy: 0.9701\n",
      "Epoch 7/10\n",
      "13/13 [==============================] - 32s 2s/step - loss: 0.2510 - accuracy: 0.9826 - val_loss: 0.0459 - val_accuracy: 0.9776\n",
      "Epoch 8/10\n",
      "13/13 [==============================] - 32s 3s/step - loss: 0.2471 - accuracy: 0.9696 - val_loss: 0.0643 - val_accuracy: 0.9701\n",
      "Epoch 9/10\n",
      "13/13 [==============================] - 33s 3s/step - loss: 0.1302 - accuracy: 0.9811 - val_loss: 0.0819 - val_accuracy: 0.9776\n",
      "Epoch 10/10\n",
      "13/13 [==============================] - 33s 3s/step - loss: 0.2475 - accuracy: 0.9700 - val_loss: 0.2200 - val_accuracy: 0.9701\n"
     ]
    }
   ],
   "source": [
    "resne52=RES52.fit_generator(training_set,validation_data=test_set,epochs=10,steps_per_epoch=len(training_set),validation_steps=len(test_set))"
   ]
  },
  {
   "cell_type": "code",
   "execution_count": 30,
   "metadata": {},
   "outputs": [],
   "source": [
    "from tensorflow.keras.models import load_model\n",
    "\n",
    "model.save('HIBA_model_resne52.h5')"
   ]
  },
  {
   "cell_type": "code",
   "execution_count": 28,
   "metadata": {},
   "outputs": [],
   "source": [
    "from tensorflow.keras.models import load_model\n",
    "model1=load_model('model_resne52.h5')"
   ]
  },
  {
   "cell_type": "code",
   "execution_count": 33,
   "metadata": {},
   "outputs": [
    {
     "data": {
      "image/png": "[encoded data removed]",
      "text/plain": [
       "<Figure size 432x288 with 1 Axes>"
      ]
     },
     "metadata": {
      "needs_background": "light"
     },
     "output_type": "display_data"
    },
    {
     "data": {
      "image/png": "[encoded data removed]",
      "text/plain": [
       "<Figure size 432x288 with 1 Axes>"
      ]
     },
     "metadata": {
      "needs_background": "light"
     },
     "output_type": "display_data"
    },
    {
     "data": {
      "text/plain": [
       "<Figure size 432x288 with 0 Axes>"
      ]
     },
     "metadata": {},
     "output_type": "display_data"
    }
   ],
   "source": [
    "plt.plot(resne52.history['loss'], label='train loss')\n",
    "plt.plot(resne52.history['val_loss'], label='val loss')\n",
    "plt.legend()\n",
    "plt.show()\n",
    "plt.savefig('LossVal_loss')\n",
    "\n",
    "# plot the accuracy\n",
    "plt.plot(resne52.history['accuracy'], label='train acc')\n",
    "plt.plot(resne52.history['val_accuracy'], label='val acc')\n",
    "plt.legend()\n",
    "plt.show()\n",
    "plt.savefig('AccVal_acc')"
   ]
  },
  {
   "cell_type": "code",
   "execution_count": 29,
   "metadata": {},
   "outputs": [],
   "source": [
    "from tensorflow.keras.preprocessing import image\n",
    "img1=image.load_img('C:/Users/HIBA/OneDrive/Desktop/Dataset/Train/Uninfected/un.png',target_size=(224,224))"
   ]
  },
  {
   "cell_type": "code",
   "execution_count": null,
   "metadata": {},
   "outputs": [],
   "source": []
  },
  {
   "cell_type": "code",
   "execution_count": 30,
   "metadata": {},
   "outputs": [
    {
     "name": "stdout",
     "output_type": "stream",
     "text": [
      "[[8.59561384e-01 1.40438691e-01]\n",
      " [9.99162793e-01 8.37188039e-04]\n",
      " [8.58370587e-02 9.14162934e-01]\n",
      " [9.99953151e-01 4.68063772e-05]\n",
      " [9.48164523e-01 5.18354066e-02]\n",
      " [7.33549669e-02 9.26645041e-01]\n",
      " [9.96539831e-01 3.46016977e-03]\n",
      " [8.10076296e-01 1.89923689e-01]\n",
      " [9.99046981e-01 9.53003124e-04]\n",
      " [8.44530404e-01 1.55469611e-01]\n",
      " [9.97402310e-01 2.59777205e-03]\n",
      " [1.80584729e-01 8.19415271e-01]\n",
      " [9.97693717e-01 2.30624736e-03]\n",
      " [8.27305079e-01 1.72694892e-01]\n",
      " [9.84003127e-01 1.59968548e-02]\n",
      " [9.99336302e-01 6.63684041e-04]\n",
      " [9.92393851e-01 7.60619761e-03]\n",
      " [1.92266718e-01 8.07733238e-01]\n",
      " [9.99310613e-01 6.89428882e-04]\n",
      " [1.90139353e-01 8.09860647e-01]\n",
      " [9.99920964e-01 7.90181439e-05]\n",
      " [1.52967826e-01 8.47032130e-01]\n",
      " [9.71169889e-01 2.88301334e-02]\n",
      " [1.90656036e-01 8.09343934e-01]\n",
      " [9.99126613e-01 8.73412180e-04]\n",
      " [9.46606994e-02 9.05339301e-01]\n",
      " [1.64807618e-01 8.35192382e-01]\n",
      " [9.99994993e-01 5.01783506e-06]\n",
      " [3.31574827e-01 6.68425202e-01]\n",
      " [9.77558434e-01 2.24415436e-02]\n",
      " [9.30994749e-01 6.90052956e-02]\n",
      " [9.78038967e-01 2.19610147e-02]\n",
      " [4.84861225e-01 5.15138745e-01]\n",
      " [4.10858542e-01 5.89141428e-01]\n",
      " [7.66681850e-01 2.33318105e-01]\n",
      " [9.42867160e-01 5.71328774e-02]\n",
      " [6.01894595e-02 9.39810574e-01]\n",
      " [6.85597807e-02 9.31440175e-01]\n",
      " [9.99090552e-01 9.09422408e-04]\n",
      " [9.99998212e-01 1.78034975e-06]\n",
      " [1.20025359e-01 8.79974604e-01]\n",
      " [9.98329937e-01 1.67010387e-03]\n",
      " [9.96818066e-01 3.18185869e-03]\n",
      " [2.58303851e-01 7.41696179e-01]\n",
      " [1.39260247e-01 8.60739768e-01]\n",
      " [9.99796093e-01 2.03962045e-04]\n",
      " [9.63913560e-01 3.60864289e-02]\n",
      " [3.90351154e-02 9.60964859e-01]\n",
      " [2.34840065e-01 7.65159965e-01]\n",
      " [7.86092758e-01 2.13907272e-01]\n",
      " [9.99899387e-01 1.00657169e-04]\n",
      " [1.28104687e-01 8.71895373e-01]\n",
      " [9.05407429e-01 9.45926011e-02]\n",
      " [9.12235737e-01 8.77642035e-02]\n",
      " [9.29967463e-01 7.00325146e-02]\n",
      " [9.97837365e-01 2.16265745e-03]\n",
      " [2.93603539e-01 7.06396401e-01]\n",
      " [6.21263199e-02 9.37873721e-01]\n",
      " [9.99975324e-01 2.46682666e-05]\n",
      " [8.63832653e-01 1.36167303e-01]\n",
      " [7.88218677e-01 2.11781323e-01]\n",
      " [3.18095833e-01 6.81904197e-01]\n",
      " [9.99760330e-01 2.39680012e-04]\n",
      " [5.28388470e-02 9.47161198e-01]\n",
      " [9.76185143e-01 2.38148943e-02]\n",
      " [9.79661465e-01 2.03385856e-02]\n",
      " [3.57342884e-02 9.64265645e-01]\n",
      " [9.99471247e-01 5.28728531e-04]\n",
      " [9.99520302e-01 4.79696959e-04]\n",
      " [1.15393281e-01 8.84606719e-01]\n",
      " [9.99940276e-01 5.96792088e-05]\n",
      " [3.31787199e-01 6.68212831e-01]\n",
      " [9.90683794e-01 9.31618083e-03]\n",
      " [9.99693394e-01 3.06596572e-04]\n",
      " [6.12665296e-01 3.87334794e-01]\n",
      " [9.97021735e-01 2.97827297e-03]\n",
      " [1.06536746e-01 8.93463314e-01]\n",
      " [9.98799324e-01 1.20071392e-03]\n",
      " [2.84168392e-01 7.15831518e-01]\n",
      " [1.00000000e+00 3.13958110e-10]\n",
      " [9.99936342e-01 6.36746045e-05]\n",
      " [9.22894776e-01 7.71052241e-02]\n",
      " [9.25887167e-01 7.41128176e-02]\n",
      " [5.42866468e-01 4.57133502e-01]\n",
      " [5.32533042e-02 9.46746647e-01]\n",
      " [9.99995589e-01 4.45602109e-06]\n",
      " [7.98213542e-01 2.01786488e-01]\n",
      " [8.45718458e-02 9.15428102e-01]\n",
      " [4.71838862e-02 9.52816069e-01]\n",
      " [9.88611430e-02 9.01138842e-01]\n",
      " [3.05730134e-01 6.94269896e-01]\n",
      " [9.73038316e-01 2.69617308e-02]\n",
      " [1.37768030e-01 8.62231970e-01]\n",
      " [9.33207944e-02 9.06679213e-01]\n",
      " [1.00000000e+00 1.08898988e-08]\n",
      " [8.10640156e-01 1.89359814e-01]\n",
      " [2.01854125e-01 7.98145890e-01]\n",
      " [7.63976574e-02 9.23602343e-01]\n",
      " [9.98818099e-01 1.18191331e-03]\n",
      " [8.22395444e-01 1.77604496e-01]\n",
      " [9.36671913e-01 6.33280277e-02]\n",
      " [9.94469404e-01 5.53062279e-03]\n",
      " [3.11334699e-01 6.88665330e-01]\n",
      " [4.27814513e-01 5.72185516e-01]\n",
      " [9.98596013e-01 1.40402641e-03]\n",
      " [9.99999046e-01 1.01044725e-06]\n",
      " [9.99999285e-01 7.07444599e-07]\n",
      " [9.88963246e-01 1.10367490e-02]\n",
      " [9.02856708e-01 9.71432850e-02]\n",
      " [7.92338252e-01 2.07661733e-01]\n",
      " [7.94593096e-02 9.20540631e-01]\n",
      " [9.99201238e-01 7.98795081e-04]\n",
      " [1.98953927e-01 8.01046073e-01]\n",
      " [4.03870404e-01 5.96129596e-01]\n",
      " [3.90304178e-01 6.09695852e-01]\n",
      " [9.97397304e-01 2.60273833e-03]\n",
      " [9.96606827e-01 3.39320186e-03]\n",
      " [9.99142408e-01 8.57565552e-04]\n",
      " [8.91450703e-01 1.08549275e-01]\n",
      " [9.62973237e-01 3.70268151e-02]\n",
      " [1.21924669e-01 8.78075302e-01]\n",
      " [1.08677253e-01 8.91322732e-01]\n",
      " [1.52269214e-01 8.47730756e-01]\n",
      " [8.33614349e-01 1.66385591e-01]\n",
      " [9.83168244e-01 1.68317631e-02]\n",
      " [6.68362975e-01 3.31637084e-01]\n",
      " [2.87373155e-01 7.12626874e-01]\n",
      " [7.22313643e-01 2.77686387e-01]\n",
      " [4.95511144e-01 5.04488885e-01]\n",
      " [9.93943036e-01 6.05698535e-03]\n",
      " [7.92321861e-01 2.07678080e-01]\n",
      " [2.43438199e-01 7.56561875e-01]\n",
      " [1.41806871e-01 8.58193159e-01]\n",
      " [1.63038045e-01 8.36961985e-01]]\n"
     ]
    }
   ],
   "source": [
    "y_pred=model1.predict(test_set)\n",
    "print(y_pred)"
   ]
  },
  {
   "cell_type": "code",
   "execution_count": 32,
   "metadata": {},
   "outputs": [
    {
     "data": {
      "text/plain": [
       "array([1, 0, 1, 1, 1, 1, 0, 1, 0, 0, 1, 0, 0, 0, 0, 0, 1, 1, 0, 0, 0, 0,\n",
       "       1, 0, 0, 1, 1, 0, 0, 1, 1, 1, 0, 1, 1, 0, 1, 0, 1, 1, 0, 1, 0, 1,\n",
       "       1, 1, 0, 1, 0, 0, 1, 0, 1, 1, 0, 1, 1, 0, 0, 0, 1, 1, 0, 0, 0, 1,\n",
       "       0, 0, 1, 0, 0, 0, 1, 0, 0, 1, 0, 0, 0, 1, 1, 0, 1, 0, 0, 0, 0, 1,\n",
       "       0, 1, 1, 0, 0, 0, 1, 1, 1, 0, 0, 1, 0, 1, 0, 0, 1, 1, 0, 1, 0, 0,\n",
       "       0, 0, 0, 0, 1, 1, 0, 0, 0, 0, 1, 1, 1, 0, 0, 1, 0, 0, 1, 1, 0, 1,\n",
       "       1, 0], dtype=int64)"
      ]
     },
     "execution_count": 32,
     "metadata": {},
     "output_type": "execute_result"
    }
   ],
   "source": [
    "y_pred = np.argmax(y_pred, axis=1)\n",
    "y_pred"
   ]
  },
  {
   "cell_type": "code",
   "execution_count": 31,
   "metadata": {},
   "outputs": [
    {
     "name": "stderr",
     "output_type": "stream",
     "text": [
      "Clipping input data to the valid range for imshow with RGB data ([0..1] for floats or [0..255] for integers).\n"
     ]
    },
    {
     "data": {
      "text/plain": [
       "<matplotlib.image.AxesImage at 0x16ccd078a60>"
      ]
     },
     "execution_count": 31,
     "metadata": {},
     "output_type": "execute_result"
    },
    {
     "data": {
      "image/png": "[encoded data removed]",
      "text/plain": [
       "<Figure size 432x288 with 1 Axes>"
      ]
     },
     "metadata": {
      "needs_background": "light"
     },
     "output_type": "display_data"
    }
   ],
   "source": [
    "from tensorflow.keras.applications.resnet50 import preprocess_input\n",
    "x1=image.img_to_array(img1)\n",
    "x1=np.expand_dims(x1,axis=0)\n",
    "img1_data=preprocess_input(x1)\n",
    "img1_data=img1_data/255.0\n",
    "model1.predict(img1_data)\n",
    "plt.imshow(img1_data.reshape([224,224,3]))"
   ]
  },
  {
   "cell_type": "code",
   "execution_count": 32,
   "metadata": {},
   "outputs": [
    {
     "name": "stdout",
     "output_type": "stream",
     "text": [
      "[0.02597366 0.9740263 ]\n",
      "The person is not infected\n"
     ]
    }
   ],
   "source": [
    "a2=max(model1.predict(img1_data)) #a[0] when max then parasitic\n",
    "print(a2)\n",
    "if(a2[0]>0 and a2[0]<0.1):\n",
    "    print(\"The person is not infected\")\n",
    "elif(a2[0]>0.1 and a2[0]<0.4):\n",
    "    print(\"The person is having mild fever and should take precautions\")\n",
    "elif(a2[0]>0.5 and a2[0]<0.7):\n",
    "    print(\"Person can have malaria and should go for initial precautions and medicines\")\n",
    "else:\n",
    "    print(\"Person is having malaria and immediate medication should be done\")\n",
    "    "
   ]
  },
  {
   "cell_type": "code",
   "execution_count": 306,
   "metadata": {},
   "outputs": [],
   "source": [
    "img2=image.load_img('C:/Users/HIBA/OneDrive/Desktop/Dataset/Test/Parasite/C39P4thinF_original_IMG_20150622_105554_cell_20.png',target_size=(224,224))\n"
   ]
  },
  {
   "cell_type": "code",
   "execution_count": 314,
   "metadata": {},
   "outputs": [
    {
     "data": {
      "text/plain": [
       "(1, 224, 224, 3)"
      ]
     },
     "execution_count": 314,
     "metadata": {},
     "output_type": "execute_result"
    }
   ],
   "source": [
    "from tensorflow.keras.applications.resnet import preprocess_input\n",
    "img2=image.img_to_array(img2)\n",
    "#print(x)\n",
    "img2=np.expand_dims(img2,axis=0)\n",
    "img2_data=preprocess_input(img2)\n",
    "img2_data=img2_data/255.0\n",
    "img2_data.shape"
   ]
  },
  {
   "cell_type": "code",
   "execution_count": 315,
   "metadata": {},
   "outputs": [
    {
     "data": {
      "text/plain": [
       "array([[0.96701753, 0.03298249]], dtype=float32)"
      ]
     },
     "execution_count": 315,
     "metadata": {},
     "output_type": "execute_result"
    }
   ],
   "source": [
    "prediction=model1.predict(img2_data)\n",
    "prediction"
   ]
  },
  {
   "cell_type": "code",
   "execution_count": 310,
   "metadata": {},
   "outputs": [
    {
     "name": "stdout",
     "output_type": "stream",
     "text": [
      "[0.03481342 0.96518654]\n"
     ]
    }
   ],
   "source": []
  },
  {
   "cell_type": "code",
   "execution_count": 220,
   "metadata": {},
   "outputs": [
    {
     "name": "stdout",
     "output_type": "stream",
     "text": [
      "Not Infected\n"
     ]
    }
   ],
   "source": []
  },
  {
   "cell_type": "code",
   "execution_count": null,
   "metadata": {},
   "outputs": [],
   "source": []
  }
 ],
 "metadata": {
  "kernelspec": {
   "display_name": "Python 3",
   "language": "python",
   "name": "python3"
  },
  "language_info": {
   "codemirror_mode": {
    "name": "ipython",
    "version": 3
   },
   "file_extension": ".py",
   "mimetype": "text/x-python",
   "name": "python",
   "nbconvert_exporter": "python",
   "pygments_lexer": "ipython3",
   "version": "3.8.5"
  }
 },
 "nbformat": 4,
 "nbformat_minor": 4
}
